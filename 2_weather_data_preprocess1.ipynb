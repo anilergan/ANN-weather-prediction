{
 "cells": [
  {
   "cell_type": "code",
   "execution_count": 298,
   "metadata": {},
   "outputs": [],
   "source": [
    "import pandas as pd"
   ]
  },
  {
   "attachments": {},
   "cell_type": "markdown",
   "metadata": {},
   "source": [
    "We will concatinate fetched datas"
   ]
  },
  {
   "cell_type": "code",
   "execution_count": 299,
   "metadata": {},
   "outputs": [],
   "source": [
    "df1 = pd.read_csv('weather_data_fetched2.csv')\n",
    "df2 = pd.read_csv('weather_data_fetched2.1.csv')\n",
    "df3 = pd.read_csv('weather_data_fetched2.2.csv')\n",
    "df4 = pd.read_csv('weather_data_fetched2.3.csv')\n",
    "\n",
    "df = pd.concat([df1,df2,df3,df4], ignore_index=True)\n",
    "df.tail()\n",
    "\n",
    "df = df.reset_index()\n"
   ]
  },
  {
   "cell_type": "code",
   "execution_count": 300,
   "metadata": {},
   "outputs": [
    {
     "data": {
      "text/plain": [
       "0"
      ]
     },
     "execution_count": 300,
     "metadata": {},
     "output_type": "execute_result"
    }
   ],
   "source": [
    "df_dup = df.duplicated()\n",
    "df_dup.sum()"
   ]
  },
  {
   "attachments": {},
   "cell_type": "markdown",
   "metadata": {},
   "source": [
    "it seems a problem occurs while processing data fetching and there's same duplicated rows \n",
    "\n",
    "we will drop them"
   ]
  },
  {
   "cell_type": "code",
   "execution_count": 301,
   "metadata": {},
   "outputs": [
    {
     "data": {
      "text/plain": [
       "0"
      ]
     },
     "execution_count": 301,
     "metadata": {},
     "output_type": "execute_result"
    }
   ],
   "source": [
    "df = df.drop_duplicates(keep='first')\n",
    "df_dup = df.duplicated()\n",
    "df_dup.sum() #nice"
   ]
  },
  {
   "cell_type": "code",
   "execution_count": 302,
   "metadata": {},
   "outputs": [
    {
     "data": {
      "text/html": [
       "<div>\n",
       "<style scoped>\n",
       "    .dataframe tbody tr th:only-of-type {\n",
       "        vertical-align: middle;\n",
       "    }\n",
       "\n",
       "    .dataframe tbody tr th {\n",
       "        vertical-align: top;\n",
       "    }\n",
       "\n",
       "    .dataframe thead th {\n",
       "        text-align: right;\n",
       "    }\n",
       "</style>\n",
       "<table border=\"1\" class=\"dataframe\">\n",
       "  <thead>\n",
       "    <tr style=\"text-align: right;\">\n",
       "      <th></th>\n",
       "      <th>index</th>\n",
       "      <th>Time</th>\n",
       "      <th>Temperature</th>\n",
       "      <th>Dew Point</th>\n",
       "      <th>Humidity</th>\n",
       "      <th>Wind</th>\n",
       "      <th>Wind Speed</th>\n",
       "      <th>Wind Gust</th>\n",
       "      <th>Pressure</th>\n",
       "      <th>Precip.Condition</th>\n",
       "      <th>Precip.</th>\n",
       "      <th>Condition</th>\n",
       "    </tr>\n",
       "  </thead>\n",
       "  <tbody>\n",
       "    <tr>\n",
       "      <th>0</th>\n",
       "      <td>0</td>\n",
       "      <td>12:20 AM</td>\n",
       "      <td>37 °F</td>\n",
       "      <td>34 °F</td>\n",
       "      <td>87 °%</td>\n",
       "      <td>W</td>\n",
       "      <td>3 °mph</td>\n",
       "      <td>0 °mph</td>\n",
       "      <td>30.08 °in</td>\n",
       "      <td>NaN</td>\n",
       "      <td>0.0 °in</td>\n",
       "      <td>Partly Cloudy</td>\n",
       "    </tr>\n",
       "    <tr>\n",
       "      <th>1</th>\n",
       "      <td>1</td>\n",
       "      <td>12:50 AM</td>\n",
       "      <td>45 °F</td>\n",
       "      <td>37 °F</td>\n",
       "      <td>76 °%</td>\n",
       "      <td>SW</td>\n",
       "      <td>9 °mph</td>\n",
       "      <td>0 °mph</td>\n",
       "      <td>30.08 °in</td>\n",
       "      <td>NaN</td>\n",
       "      <td>0.0 °in</td>\n",
       "      <td>Mostly Cloudy</td>\n",
       "    </tr>\n",
       "    <tr>\n",
       "      <th>2</th>\n",
       "      <td>2</td>\n",
       "      <td>1:20 AM</td>\n",
       "      <td>45 °F</td>\n",
       "      <td>39 °F</td>\n",
       "      <td>81 °%</td>\n",
       "      <td>WSW</td>\n",
       "      <td>8 °mph</td>\n",
       "      <td>0 °mph</td>\n",
       "      <td>30.08 °in</td>\n",
       "      <td>NaN</td>\n",
       "      <td>0.0 °in</td>\n",
       "      <td>Mostly Cloudy</td>\n",
       "    </tr>\n",
       "    <tr>\n",
       "      <th>3</th>\n",
       "      <td>3</td>\n",
       "      <td>1:50 AM</td>\n",
       "      <td>43 °F</td>\n",
       "      <td>36 °F</td>\n",
       "      <td>76 °%</td>\n",
       "      <td>WNW</td>\n",
       "      <td>6 °mph</td>\n",
       "      <td>0 °mph</td>\n",
       "      <td>30.05 °in</td>\n",
       "      <td>NaN</td>\n",
       "      <td>0.0 °in</td>\n",
       "      <td>Mostly Cloudy</td>\n",
       "    </tr>\n",
       "    <tr>\n",
       "      <th>4</th>\n",
       "      <td>4</td>\n",
       "      <td>2:20 AM</td>\n",
       "      <td>41 °F</td>\n",
       "      <td>36 °F</td>\n",
       "      <td>81 °%</td>\n",
       "      <td>NW</td>\n",
       "      <td>5 °mph</td>\n",
       "      <td>0 °mph</td>\n",
       "      <td>30.05 °in</td>\n",
       "      <td>NaN</td>\n",
       "      <td>0.0 °in</td>\n",
       "      <td>Mostly Cloudy</td>\n",
       "    </tr>\n",
       "    <tr>\n",
       "      <th>...</th>\n",
       "      <td>...</td>\n",
       "      <td>...</td>\n",
       "      <td>...</td>\n",
       "      <td>...</td>\n",
       "      <td>...</td>\n",
       "      <td>...</td>\n",
       "      <td>...</td>\n",
       "      <td>...</td>\n",
       "      <td>...</td>\n",
       "      <td>...</td>\n",
       "      <td>...</td>\n",
       "      <td>...</td>\n",
       "    </tr>\n",
       "    <tr>\n",
       "      <th>48166</th>\n",
       "      <td>48166</td>\n",
       "      <td>9:50 PM</td>\n",
       "      <td>48 °F</td>\n",
       "      <td>39 °F</td>\n",
       "      <td>71 °%</td>\n",
       "      <td>ENE</td>\n",
       "      <td>13 °mph</td>\n",
       "      <td>0 °mph</td>\n",
       "      <td>30.18 °in</td>\n",
       "      <td>NaN</td>\n",
       "      <td>0.0 °in</td>\n",
       "      <td>Mostly Cloudy</td>\n",
       "    </tr>\n",
       "    <tr>\n",
       "      <th>48167</th>\n",
       "      <td>48167</td>\n",
       "      <td>10:20 PM</td>\n",
       "      <td>48 °F</td>\n",
       "      <td>39 °F</td>\n",
       "      <td>71 °%</td>\n",
       "      <td>NE</td>\n",
       "      <td>12 °mph</td>\n",
       "      <td>0 °mph</td>\n",
       "      <td>30.18 °in</td>\n",
       "      <td>NaN</td>\n",
       "      <td>0.0 °in</td>\n",
       "      <td>Fair</td>\n",
       "    </tr>\n",
       "    <tr>\n",
       "      <th>48168</th>\n",
       "      <td>48168</td>\n",
       "      <td>10:50 PM</td>\n",
       "      <td>48 °F</td>\n",
       "      <td>39 °F</td>\n",
       "      <td>71 °%</td>\n",
       "      <td>NE</td>\n",
       "      <td>10 °mph</td>\n",
       "      <td>0 °mph</td>\n",
       "      <td>30.18 °in</td>\n",
       "      <td>NaN</td>\n",
       "      <td>0.0 °in</td>\n",
       "      <td>Fair</td>\n",
       "    </tr>\n",
       "    <tr>\n",
       "      <th>48169</th>\n",
       "      <td>48169</td>\n",
       "      <td>11:20 PM</td>\n",
       "      <td>48 °F</td>\n",
       "      <td>39 °F</td>\n",
       "      <td>71 °%</td>\n",
       "      <td>NE</td>\n",
       "      <td>12 °mph</td>\n",
       "      <td>0 °mph</td>\n",
       "      <td>30.18 °in</td>\n",
       "      <td>NaN</td>\n",
       "      <td>0.0 °in</td>\n",
       "      <td>Fair</td>\n",
       "    </tr>\n",
       "    <tr>\n",
       "      <th>48170</th>\n",
       "      <td>48170</td>\n",
       "      <td>11:50 PM</td>\n",
       "      <td>48 °F</td>\n",
       "      <td>39 °F</td>\n",
       "      <td>71 °%</td>\n",
       "      <td>NE</td>\n",
       "      <td>13 °mph</td>\n",
       "      <td>0 °mph</td>\n",
       "      <td>30.18 °in</td>\n",
       "      <td>NaN</td>\n",
       "      <td>0.0 °in</td>\n",
       "      <td>Fair</td>\n",
       "    </tr>\n",
       "  </tbody>\n",
       "</table>\n",
       "<p>48171 rows × 12 columns</p>\n",
       "</div>"
      ],
      "text/plain": [
       "       index      Time Temperature Dew Point Humidity Wind Wind Speed  \\\n",
       "0          0  12:20 AM       37 °F     34 °F    87 °%    W     3 °mph   \n",
       "1          1  12:50 AM       45 °F     37 °F    76 °%   SW     9 °mph   \n",
       "2          2   1:20 AM       45 °F     39 °F    81 °%  WSW     8 °mph   \n",
       "3          3   1:50 AM       43 °F     36 °F    76 °%  WNW     6 °mph   \n",
       "4          4   2:20 AM       41 °F     36 °F    81 °%   NW     5 °mph   \n",
       "...      ...       ...         ...       ...      ...  ...        ...   \n",
       "48166  48166   9:50 PM       48 °F     39 °F    71 °%  ENE    13 °mph   \n",
       "48167  48167  10:20 PM       48 °F     39 °F    71 °%   NE    12 °mph   \n",
       "48168  48168  10:50 PM       48 °F     39 °F    71 °%   NE    10 °mph   \n",
       "48169  48169  11:20 PM       48 °F     39 °F    71 °%   NE    12 °mph   \n",
       "48170  48170  11:50 PM       48 °F     39 °F    71 °%   NE    13 °mph   \n",
       "\n",
       "      Wind Gust   Pressure  Precip.Condition  Precip.      Condition  \n",
       "0        0 °mph  30.08 °in               NaN  0.0 °in  Partly Cloudy  \n",
       "1        0 °mph  30.08 °in               NaN  0.0 °in  Mostly Cloudy  \n",
       "2        0 °mph  30.08 °in               NaN  0.0 °in  Mostly Cloudy  \n",
       "3        0 °mph  30.05 °in               NaN  0.0 °in  Mostly Cloudy  \n",
       "4        0 °mph  30.05 °in               NaN  0.0 °in  Mostly Cloudy  \n",
       "...         ...        ...               ...      ...            ...  \n",
       "48166    0 °mph  30.18 °in               NaN  0.0 °in  Mostly Cloudy  \n",
       "48167    0 °mph  30.18 °in               NaN  0.0 °in           Fair  \n",
       "48168    0 °mph  30.18 °in               NaN  0.0 °in           Fair  \n",
       "48169    0 °mph  30.18 °in               NaN  0.0 °in           Fair  \n",
       "48170    0 °mph  30.18 °in               NaN  0.0 °in           Fair  \n",
       "\n",
       "[48171 rows x 12 columns]"
      ]
     },
     "execution_count": 302,
     "metadata": {},
     "output_type": "execute_result"
    }
   ],
   "source": [
    "df"
   ]
  },
  {
   "cell_type": "code",
   "execution_count": 303,
   "metadata": {},
   "outputs": [
    {
     "data": {
      "text/plain": [
       "index          0\n",
       "Time           0\n",
       "Temperature    0\n",
       "Dew Point      0\n",
       "Humidity       0\n",
       "Wind           0\n",
       "Wind Speed     0\n",
       "Wind Gust      0\n",
       "Pressure       0\n",
       "Precip.        0\n",
       "Condition      0\n",
       "dtype: int64"
      ]
     },
     "execution_count": 303,
     "metadata": {},
     "output_type": "execute_result"
    }
   ],
   "source": [
    "df.isnull().sum()\n",
    "# precip. Condition columns is invalid\n",
    "df.drop(columns='Precip.Condition', inplace=True)\n",
    "df.isnull().sum()"
   ]
  },
  {
   "cell_type": "code",
   "execution_count": 304,
   "metadata": {},
   "outputs": [
    {
     "data": {
      "text/plain": [
       "18"
      ]
     },
     "execution_count": 304,
     "metadata": {},
     "output_type": "execute_result"
    }
   ],
   "source": [
    "df['Wind'].nunique()"
   ]
  },
  {
   "attachments": {},
   "cell_type": "markdown",
   "metadata": {},
   "source": [
    "### Data preprocessing"
   ]
  },
  {
   "attachments": {},
   "cell_type": "markdown",
   "metadata": {},
   "source": [
    "1. We need to get rid of str expressions which's fallowing nemerical values.\n"
   ]
  },
  {
   "cell_type": "code",
   "execution_count": 305,
   "metadata": {},
   "outputs": [],
   "source": [
    "for i in range(len(df)):\n",
    "    df.loc[i, 'Temperature'] = int(df.loc[i, 'Temperature'].replace('°F', ''))\n",
    "    df.loc[i, 'Temperature'] = (df.loc[i, 'Temperature'] - 32) * 5/9\n",
    "df = df.rename(columns = {'Temperature': 'Temperature(°C)'}) "
   ]
  },
  {
   "cell_type": "code",
   "execution_count": 306,
   "metadata": {},
   "outputs": [],
   "source": [
    "for i in range(len(df)):\n",
    "    df.loc[i, 'Dew Point'] = int(df.loc[i, 'Dew Point'].replace('°F', ''))\n",
    "    df.loc[i, 'Dew Point'] = (df.loc[i, 'Dew Point'] - 32) * 5/9\n",
    "df = df.rename(columns={'Dew Point': 'Dew Point(°F)'})"
   ]
  },
  {
   "cell_type": "code",
   "execution_count": 307,
   "metadata": {},
   "outputs": [],
   "source": [
    "for i in range(len(df)):\n",
    "    df.loc[i, 'Humidity'] = int(df.loc[i, 'Humidity'].replace('°%', ''))\n",
    "df = df.rename(columns={'Humidity': 'Humidity(°%)'})"
   ]
  },
  {
   "cell_type": "code",
   "execution_count": 308,
   "metadata": {},
   "outputs": [],
   "source": [
    "for i in range(len(df)):\n",
    "    df.loc[i, 'Wind Speed'] = int(df.loc[i, 'Wind Speed'].replace('°mph', ''))\n",
    "df = df.rename(columns={'Wind Speed': 'Wind Speed(°mph)'})"
   ]
  },
  {
   "cell_type": "code",
   "execution_count": 309,
   "metadata": {},
   "outputs": [],
   "source": [
    "for i in range(len(df)):\n",
    "    df.loc[i, 'Wind Gust'] = int(df.loc[i, 'Wind Gust'].replace('°mph', ''))\n",
    "df = df.rename(columns={'Wind Gust': 'Wind Gust(°mph)'})"
   ]
  },
  {
   "cell_type": "code",
   "execution_count": 310,
   "metadata": {},
   "outputs": [],
   "source": [
    "for i in range(len(df)):\n",
    "    df.loc[i, 'Pressure'] = float(df.loc[i, 'Pressure'].replace('°in', ''))\n",
    "df = df.rename(columns={'Pressure': 'Pressure(°in)'})"
   ]
  },
  {
   "cell_type": "code",
   "execution_count": 311,
   "metadata": {},
   "outputs": [
    {
     "name": "stderr",
     "output_type": "stream",
     "text": [
      "C:\\Users\\anerg\\AppData\\Local\\Temp\\ipykernel_23108\\2071424006.py:2: SettingWithCopyWarning: \n",
      "A value is trying to be set on a copy of a slice from a DataFrame\n",
      "\n",
      "See the caveats in the documentation: https://pandas.pydata.org/pandas-docs/stable/user_guide/indexing.html#returning-a-view-versus-a-copy\n",
      "  df['Precip.'][i] = float(df['Precip.'][i].replace('°in', ''))\n"
     ]
    }
   ],
   "source": [
    "for i in range(len(df)):\n",
    "    df['Precip.'][i] = float(df['Precip.'][i].replace('°in', ''))\n",
    "df = df.rename(columns={'Precip': 'Precip(°in)'})"
   ]
  },
  {
   "cell_type": "code",
   "execution_count": 312,
   "metadata": {},
   "outputs": [
    {
     "data": {
      "text/html": [
       "<div>\n",
       "<style scoped>\n",
       "    .dataframe tbody tr th:only-of-type {\n",
       "        vertical-align: middle;\n",
       "    }\n",
       "\n",
       "    .dataframe tbody tr th {\n",
       "        vertical-align: top;\n",
       "    }\n",
       "\n",
       "    .dataframe thead th {\n",
       "        text-align: right;\n",
       "    }\n",
       "</style>\n",
       "<table border=\"1\" class=\"dataframe\">\n",
       "  <thead>\n",
       "    <tr style=\"text-align: right;\">\n",
       "      <th></th>\n",
       "      <th>index</th>\n",
       "      <th>Time</th>\n",
       "      <th>Temperature(°C)</th>\n",
       "      <th>Dew Point(°F)</th>\n",
       "      <th>Humidity(°%)</th>\n",
       "      <th>Wind</th>\n",
       "      <th>Wind Speed(°mph)</th>\n",
       "      <th>Wind Gust(°mph)</th>\n",
       "      <th>Pressure(°in)</th>\n",
       "      <th>Precip.</th>\n",
       "      <th>Condition</th>\n",
       "    </tr>\n",
       "  </thead>\n",
       "  <tbody>\n",
       "    <tr>\n",
       "      <th>48168</th>\n",
       "      <td>48168</td>\n",
       "      <td>10:50 PM</td>\n",
       "      <td>8.888889</td>\n",
       "      <td>3.888889</td>\n",
       "      <td>71</td>\n",
       "      <td>NE</td>\n",
       "      <td>10</td>\n",
       "      <td>0</td>\n",
       "      <td>30.18</td>\n",
       "      <td>0.0</td>\n",
       "      <td>Fair</td>\n",
       "    </tr>\n",
       "    <tr>\n",
       "      <th>48169</th>\n",
       "      <td>48169</td>\n",
       "      <td>11:20 PM</td>\n",
       "      <td>8.888889</td>\n",
       "      <td>3.888889</td>\n",
       "      <td>71</td>\n",
       "      <td>NE</td>\n",
       "      <td>12</td>\n",
       "      <td>0</td>\n",
       "      <td>30.18</td>\n",
       "      <td>0.0</td>\n",
       "      <td>Fair</td>\n",
       "    </tr>\n",
       "    <tr>\n",
       "      <th>48170</th>\n",
       "      <td>48170</td>\n",
       "      <td>11:50 PM</td>\n",
       "      <td>8.888889</td>\n",
       "      <td>3.888889</td>\n",
       "      <td>71</td>\n",
       "      <td>NE</td>\n",
       "      <td>13</td>\n",
       "      <td>0</td>\n",
       "      <td>30.18</td>\n",
       "      <td>0.0</td>\n",
       "      <td>Fair</td>\n",
       "    </tr>\n",
       "  </tbody>\n",
       "</table>\n",
       "</div>"
      ],
      "text/plain": [
       "       index      Time Temperature(°C) Dew Point(°F) Humidity(°%) Wind  \\\n",
       "48168  48168  10:50 PM        8.888889      3.888889           71   NE   \n",
       "48169  48169  11:20 PM        8.888889      3.888889           71   NE   \n",
       "48170  48170  11:50 PM        8.888889      3.888889           71   NE   \n",
       "\n",
       "      Wind Speed(°mph) Wind Gust(°mph) Pressure(°in) Precip. Condition  \n",
       "48168               10               0         30.18     0.0      Fair  \n",
       "48169               12               0         30.18     0.0      Fair  \n",
       "48170               13               0         30.18     0.0      Fair  "
      ]
     },
     "execution_count": 312,
     "metadata": {},
     "output_type": "execute_result"
    }
   ],
   "source": [
    "df.tail(3)"
   ]
  },
  {
   "attachments": {},
   "cell_type": "markdown",
   "metadata": {},
   "source": [
    "2. We will remove unneccessary columns for model traning"
   ]
  },
  {
   "cell_type": "code",
   "execution_count": 313,
   "metadata": {},
   "outputs": [
    {
     "data": {
      "text/html": [
       "<div>\n",
       "<style scoped>\n",
       "    .dataframe tbody tr th:only-of-type {\n",
       "        vertical-align: middle;\n",
       "    }\n",
       "\n",
       "    .dataframe tbody tr th {\n",
       "        vertical-align: top;\n",
       "    }\n",
       "\n",
       "    .dataframe thead th {\n",
       "        text-align: right;\n",
       "    }\n",
       "</style>\n",
       "<table border=\"1\" class=\"dataframe\">\n",
       "  <thead>\n",
       "    <tr style=\"text-align: right;\">\n",
       "      <th></th>\n",
       "      <th>Temperature(°C)</th>\n",
       "      <th>Dew Point(°F)</th>\n",
       "      <th>Humidity(°%)</th>\n",
       "      <th>Wind Speed(°mph)</th>\n",
       "      <th>Wind Gust(°mph)</th>\n",
       "      <th>Pressure(°in)</th>\n",
       "      <th>Precip.</th>\n",
       "      <th>Condition</th>\n",
       "    </tr>\n",
       "  </thead>\n",
       "  <tbody>\n",
       "    <tr>\n",
       "      <th>48169</th>\n",
       "      <td>8.888889</td>\n",
       "      <td>3.888889</td>\n",
       "      <td>71</td>\n",
       "      <td>12</td>\n",
       "      <td>0</td>\n",
       "      <td>30.18</td>\n",
       "      <td>0.0</td>\n",
       "      <td>Fair</td>\n",
       "    </tr>\n",
       "    <tr>\n",
       "      <th>48170</th>\n",
       "      <td>8.888889</td>\n",
       "      <td>3.888889</td>\n",
       "      <td>71</td>\n",
       "      <td>13</td>\n",
       "      <td>0</td>\n",
       "      <td>30.18</td>\n",
       "      <td>0.0</td>\n",
       "      <td>Fair</td>\n",
       "    </tr>\n",
       "  </tbody>\n",
       "</table>\n",
       "</div>"
      ],
      "text/plain": [
       "      Temperature(°C) Dew Point(°F) Humidity(°%) Wind Speed(°mph)  \\\n",
       "48169        8.888889      3.888889           71               12   \n",
       "48170        8.888889      3.888889           71               13   \n",
       "\n",
       "      Wind Gust(°mph) Pressure(°in) Precip. Condition  \n",
       "48169               0         30.18     0.0      Fair  \n",
       "48170               0         30.18     0.0      Fair  "
      ]
     },
     "execution_count": 313,
     "metadata": {},
     "output_type": "execute_result"
    }
   ],
   "source": [
    "df = df.drop(df.columns[[0,1,5]], axis = 1)\n",
    "df.tail(2)"
   ]
  },
  {
   "cell_type": "code",
   "execution_count": 314,
   "metadata": {},
   "outputs": [],
   "source": [
    "from math import ceil\n",
    "df_cols = df.iloc[:, :-2].columns\n",
    "\n",
    "for c in range(len(df_cols)):\n",
    "    col = (df_cols[c])\n",
    "    df[col] = df[col].apply(lambda x: ceil(x))"
   ]
  },
  {
   "attachments": {},
   "cell_type": "markdown",
   "metadata": {},
   "source": [
    "3. We will update the the csv data"
   ]
  },
  {
   "cell_type": "code",
   "execution_count": 297,
   "metadata": {},
   "outputs": [
    {
     "data": {
      "text/plain": [
       "Temperature(°C)      int64\n",
       "Dew Point(°F)        int64\n",
       "Humidity(°%)         int64\n",
       "Wind Speed(°mph)     int64\n",
       "Wind Gust(°mph)      int64\n",
       "Pressure(°in)        int64\n",
       "Precip.              int64\n",
       "Condition           object\n",
       "col                  int64\n",
       "dtype: object"
      ]
     },
     "execution_count": 297,
     "metadata": {},
     "output_type": "execute_result"
    }
   ],
   "source": [
    "df.dtypes"
   ]
  },
  {
   "attachments": {},
   "cell_type": "markdown",
   "metadata": {},
   "source": [
    "it seems column types are not correct"
   ]
  },
  {
   "cell_type": "code",
   "execution_count": 316,
   "metadata": {},
   "outputs": [
    {
     "data": {
      "text/html": [
       "<div>\n",
       "<style scoped>\n",
       "    .dataframe tbody tr th:only-of-type {\n",
       "        vertical-align: middle;\n",
       "    }\n",
       "\n",
       "    .dataframe tbody tr th {\n",
       "        vertical-align: top;\n",
       "    }\n",
       "\n",
       "    .dataframe thead th {\n",
       "        text-align: right;\n",
       "    }\n",
       "</style>\n",
       "<table border=\"1\" class=\"dataframe\">\n",
       "  <thead>\n",
       "    <tr style=\"text-align: right;\">\n",
       "      <th></th>\n",
       "      <th>count</th>\n",
       "      <th>mean</th>\n",
       "      <th>std</th>\n",
       "      <th>min</th>\n",
       "      <th>25%</th>\n",
       "      <th>50%</th>\n",
       "      <th>75%</th>\n",
       "      <th>max</th>\n",
       "    </tr>\n",
       "  </thead>\n",
       "  <tbody>\n",
       "    <tr>\n",
       "      <th>Temperature(°C)</th>\n",
       "      <td>48171.0</td>\n",
       "      <td>16.112889</td>\n",
       "      <td>7.828876</td>\n",
       "      <td>-17.0</td>\n",
       "      <td>10.0</td>\n",
       "      <td>15.0</td>\n",
       "      <td>23.0</td>\n",
       "      <td>35.0</td>\n",
       "    </tr>\n",
       "    <tr>\n",
       "      <th>Dew Point(°F)</th>\n",
       "      <td>48171.0</td>\n",
       "      <td>10.578585</td>\n",
       "      <td>6.734802</td>\n",
       "      <td>-17.0</td>\n",
       "      <td>5.0</td>\n",
       "      <td>10.0</td>\n",
       "      <td>17.0</td>\n",
       "      <td>25.0</td>\n",
       "    </tr>\n",
       "    <tr>\n",
       "      <th>Humidity(°%)</th>\n",
       "      <td>48171.0</td>\n",
       "      <td>71.398352</td>\n",
       "      <td>14.569206</td>\n",
       "      <td>0.0</td>\n",
       "      <td>62.0</td>\n",
       "      <td>73.0</td>\n",
       "      <td>82.0</td>\n",
       "      <td>100.0</td>\n",
       "    </tr>\n",
       "    <tr>\n",
       "      <th>Wind Speed(°mph)</th>\n",
       "      <td>48171.0</td>\n",
       "      <td>9.989952</td>\n",
       "      <td>5.643898</td>\n",
       "      <td>0.0</td>\n",
       "      <td>6.0</td>\n",
       "      <td>9.0</td>\n",
       "      <td>14.0</td>\n",
       "      <td>38.0</td>\n",
       "    </tr>\n",
       "    <tr>\n",
       "      <th>Wind Gust(°mph)</th>\n",
       "      <td>48171.0</td>\n",
       "      <td>0.468041</td>\n",
       "      <td>3.990370</td>\n",
       "      <td>0.0</td>\n",
       "      <td>0.0</td>\n",
       "      <td>0.0</td>\n",
       "      <td>0.0</td>\n",
       "      <td>58.0</td>\n",
       "    </tr>\n",
       "    <tr>\n",
       "      <th>Pressure(°in)</th>\n",
       "      <td>48171.0</td>\n",
       "      <td>30.155903</td>\n",
       "      <td>1.118653</td>\n",
       "      <td>0.0</td>\n",
       "      <td>30.0</td>\n",
       "      <td>30.0</td>\n",
       "      <td>30.0</td>\n",
       "      <td>31.0</td>\n",
       "    </tr>\n",
       "  </tbody>\n",
       "</table>\n",
       "</div>"
      ],
      "text/plain": [
       "                    count       mean        std   min   25%   50%   75%    max\n",
       "Temperature(°C)   48171.0  16.112889   7.828876 -17.0  10.0  15.0  23.0   35.0\n",
       "Dew Point(°F)     48171.0  10.578585   6.734802 -17.0   5.0  10.0  17.0   25.0\n",
       "Humidity(°%)      48171.0  71.398352  14.569206   0.0  62.0  73.0  82.0  100.0\n",
       "Wind Speed(°mph)  48171.0   9.989952   5.643898   0.0   6.0   9.0  14.0   38.0\n",
       "Wind Gust(°mph)   48171.0   0.468041   3.990370   0.0   0.0   0.0   0.0   58.0\n",
       "Pressure(°in)     48171.0  30.155903   1.118653   0.0  30.0  30.0  30.0   31.0"
      ]
     },
     "execution_count": 316,
     "metadata": {},
     "output_type": "execute_result"
    }
   ],
   "source": [
    "df.describe().T"
   ]
  },
  {
   "cell_type": "code",
   "execution_count": 317,
   "metadata": {},
   "outputs": [],
   "source": [
    "df.to_csv('weather_data.csv', index=False)"
   ]
  }
 ],
 "metadata": {
  "kernelspec": {
   "display_name": "Python 3",
   "language": "python",
   "name": "python3"
  },
  "language_info": {
   "codemirror_mode": {
    "name": "ipython",
    "version": 3
   },
   "file_extension": ".py",
   "mimetype": "text/x-python",
   "name": "python",
   "nbconvert_exporter": "python",
   "pygments_lexer": "ipython3",
   "version": "3.10.5"
  },
  "orig_nbformat": 4
 },
 "nbformat": 4,
 "nbformat_minor": 2
}
