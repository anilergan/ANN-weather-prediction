{
 "cells": [
  {
   "cell_type": "code",
   "execution_count": 312,
   "metadata": {},
   "outputs": [],
   "source": [
    "import numpy as np\n",
    "import pandas as pd"
   ]
  },
  {
   "cell_type": "code",
   "execution_count": 313,
   "metadata": {},
   "outputs": [],
   "source": [
    "weather = pd.read_csv('weather.csv')\n",
    "df = weather.copy()"
   ]
  },
  {
   "cell_type": "code",
   "execution_count": 314,
   "metadata": {},
   "outputs": [],
   "source": [
    "df = df.iloc[:,1:len(df.columns)]"
   ]
  },
  {
   "cell_type": "code",
   "execution_count": 315,
   "metadata": {},
   "outputs": [
    {
     "data": {
      "text/plain": [
       "Index(['precipitation', 'temp_max', 'temp_min', 'wind', 'weather'], dtype='object')"
      ]
     },
     "execution_count": 315,
     "metadata": {},
     "output_type": "execute_result"
    }
   ],
   "source": [
    "df.tail()\n",
    "df.columns"
   ]
  },
  {
   "attachments": {},
   "cell_type": "markdown",
   "metadata": {},
   "source": [
    "One Hot Encoding"
   ]
  },
  {
   "cell_type": "code",
   "execution_count": 316,
   "metadata": {},
   "outputs": [
    {
     "data": {
      "text/html": [
       "<div>\n",
       "<style scoped>\n",
       "    .dataframe tbody tr th:only-of-type {\n",
       "        vertical-align: middle;\n",
       "    }\n",
       "\n",
       "    .dataframe tbody tr th {\n",
       "        vertical-align: top;\n",
       "    }\n",
       "\n",
       "    .dataframe thead th {\n",
       "        text-align: right;\n",
       "    }\n",
       "</style>\n",
       "<table border=\"1\" class=\"dataframe\">\n",
       "  <thead>\n",
       "    <tr style=\"text-align: right;\">\n",
       "      <th></th>\n",
       "      <th>precipitation</th>\n",
       "      <th>temp_max</th>\n",
       "      <th>temp_min</th>\n",
       "      <th>wind</th>\n",
       "      <th>weather_drizzle</th>\n",
       "      <th>weather_fog</th>\n",
       "      <th>weather_rain</th>\n",
       "      <th>weather_snow</th>\n",
       "      <th>weather_sun</th>\n",
       "    </tr>\n",
       "  </thead>\n",
       "  <tbody>\n",
       "    <tr>\n",
       "      <th>1456</th>\n",
       "      <td>8.60</td>\n",
       "      <td>4.40</td>\n",
       "      <td>1.70</td>\n",
       "      <td>2.90</td>\n",
       "      <td>0</td>\n",
       "      <td>0</td>\n",
       "      <td>1</td>\n",
       "      <td>0</td>\n",
       "      <td>0</td>\n",
       "    </tr>\n",
       "    <tr>\n",
       "      <th>1457</th>\n",
       "      <td>1.50</td>\n",
       "      <td>5.00</td>\n",
       "      <td>1.70</td>\n",
       "      <td>1.30</td>\n",
       "      <td>0</td>\n",
       "      <td>0</td>\n",
       "      <td>1</td>\n",
       "      <td>0</td>\n",
       "      <td>0</td>\n",
       "    </tr>\n",
       "    <tr>\n",
       "      <th>1458</th>\n",
       "      <td>0.00</td>\n",
       "      <td>7.20</td>\n",
       "      <td>0.60</td>\n",
       "      <td>2.60</td>\n",
       "      <td>0</td>\n",
       "      <td>1</td>\n",
       "      <td>0</td>\n",
       "      <td>0</td>\n",
       "      <td>0</td>\n",
       "    </tr>\n",
       "    <tr>\n",
       "      <th>1459</th>\n",
       "      <td>0.00</td>\n",
       "      <td>5.60</td>\n",
       "      <td>-1.00</td>\n",
       "      <td>3.40</td>\n",
       "      <td>0</td>\n",
       "      <td>0</td>\n",
       "      <td>0</td>\n",
       "      <td>0</td>\n",
       "      <td>1</td>\n",
       "    </tr>\n",
       "    <tr>\n",
       "      <th>1460</th>\n",
       "      <td>0.00</td>\n",
       "      <td>5.60</td>\n",
       "      <td>-2.10</td>\n",
       "      <td>3.50</td>\n",
       "      <td>0</td>\n",
       "      <td>0</td>\n",
       "      <td>0</td>\n",
       "      <td>0</td>\n",
       "      <td>1</td>\n",
       "    </tr>\n",
       "  </tbody>\n",
       "</table>\n",
       "</div>"
      ],
      "text/plain": [
       "      precipitation  temp_max  temp_min  wind  weather_drizzle  weather_fog  \\\n",
       "1456           8.60      4.40      1.70  2.90                0            0   \n",
       "1457           1.50      5.00      1.70  1.30                0            0   \n",
       "1458           0.00      7.20      0.60  2.60                0            1   \n",
       "1459           0.00      5.60     -1.00  3.40                0            0   \n",
       "1460           0.00      5.60     -2.10  3.50                0            0   \n",
       "\n",
       "      weather_rain  weather_snow  weather_sun  \n",
       "1456             1             0            0  \n",
       "1457             1             0            0  \n",
       "1458             0             0            0  \n",
       "1459             0             0            1  \n",
       "1460             0             0            1  "
      ]
     },
     "execution_count": 316,
     "metadata": {},
     "output_type": "execute_result"
    }
   ],
   "source": [
    "df = pd.get_dummies(df, columns=['weather'])\n",
    "df.tail()"
   ]
  },
  {
   "attachments": {},
   "cell_type": "markdown",
   "metadata": {},
   "source": [
    "Dataframe -> Numpy Array"
   ]
  },
  {
   "cell_type": "code",
   "execution_count": 317,
   "metadata": {},
   "outputs": [],
   "source": [
    "X = df.iloc[:,:4].values\n",
    "Y = df.iloc[:,4:9].values"
   ]
  },
  {
   "attachments": {},
   "cell_type": "markdown",
   "metadata": {},
   "source": [
    "train and test datas"
   ]
  },
  {
   "cell_type": "code",
   "execution_count": 318,
   "metadata": {},
   "outputs": [],
   "source": [
    "from sklearn.model_selection import train_test_split\n",
    "\n",
    "x_train, x_test, y_train, y_test = train_test_split(X,Y,test_size=0.2, random_state=0)"
   ]
  },
  {
   "attachments": {},
   "cell_type": "markdown",
   "metadata": {},
   "source": [
    "Waow, I found new stuff"
   ]
  },
  {
   "cell_type": "code",
   "execution_count": 319,
   "metadata": {},
   "outputs": [],
   "source": [
    "# from lazypredict.Supervised import LazyClassifier\n",
    "# clf = LazyClassifier(verbose = 0, ignore_warnings=True, custom_metric=None)\n",
    "# models,predictions = clf.fit(x_train, x_test, y_train, y_test)\n",
    "# print(models)"
   ]
  },
  {
   "attachments": {},
   "cell_type": "markdown",
   "metadata": {},
   "source": [
    "I'll applied the above one in another project, I could not handle it here. Maybe that's why it is multi-classificatin problem"
   ]
  },
  {
   "attachments": {},
   "cell_type": "markdown",
   "metadata": {},
   "source": [
    "fit KNN model"
   ]
  },
  {
   "cell_type": "code",
   "execution_count": 320,
   "metadata": {},
   "outputs": [],
   "source": [
    "# from sklearn.neighbors import KNeighborsClassifier\n",
    "# knn = KNeighborsClassifier(n_neighbors=7)\n",
    "# knn.fit(x_train, y_train)"
   ]
  },
  {
   "attachments": {},
   "cell_type": "markdown",
   "metadata": {},
   "source": [
    "predict through KNN"
   ]
  },
  {
   "cell_type": "code",
   "execution_count": 321,
   "metadata": {},
   "outputs": [],
   "source": [
    "# y_pred = knn.predict(x_test)"
   ]
  },
  {
   "cell_type": "code",
   "execution_count": 322,
   "metadata": {},
   "outputs": [],
   "source": [
    "# from sklearn.metrics import r2_score\n",
    "# r2_score(y_test, y_pred)"
   ]
  },
  {
   "attachments": {},
   "cell_type": "markdown",
   "metadata": {},
   "source": [
    "KNN does not work"
   ]
  },
  {
   "attachments": {},
   "cell_type": "markdown",
   "metadata": {},
   "source": [
    "Let's try neural networks"
   ]
  },
  {
   "attachments": {},
   "cell_type": "markdown",
   "metadata": {},
   "source": [
    "Model Scaling: Minmaxscaler"
   ]
  },
  {
   "cell_type": "code",
   "execution_count": 323,
   "metadata": {},
   "outputs": [],
   "source": [
    "from sklearn.preprocessing import MinMaxScaler\n",
    "scaler = MinMaxScaler()\n",
    "X_train = scaler.fit_transform(x_train)\n",
    "X_test = scaler.fit_transform(x_test)"
   ]
  },
  {
   "cell_type": "code",
   "execution_count": 324,
   "metadata": {},
   "outputs": [],
   "source": [
    "from keras.models import Sequential\n",
    "from keras.layers import Dense"
   ]
  },
  {
   "cell_type": "code",
   "execution_count": 342,
   "metadata": {},
   "outputs": [],
   "source": [
    "classifier = Sequential()\n",
    "\n",
    "classifier.add(Dense(\n",
    "    units = 6,\n",
    "    kernel_initializer = 'uniform',\n",
    "    activation = 'relu',\n",
    "    input_dim = 4\n",
    "))\n",
    "\n",
    "classifier.add(Dense(\n",
    "    units = 8,\n",
    "    kernel_initializer = 'uniform',\n",
    "    activation = 'relu'\n",
    "))\n",
    "\n",
    "classifier.add(Dense(\n",
    "    units = 10,\n",
    "    kernel_initializer = 'uniform',\n",
    "    activation = 'relu'\n",
    "))\n",
    "\n",
    "\n",
    "classifier.add(Dense(\n",
    "    units = 5,\n",
    "    kernel_initializer = 'uniform',\n",
    "    activation = 'softmax',\n",
    "))"
   ]
  },
  {
   "cell_type": "code",
   "execution_count": 343,
   "metadata": {},
   "outputs": [],
   "source": [
    "classifier.compile(optimizer='adam',\n",
    "                   loss = 'categorical_crossentropy',\n",
    "                   metrics = ['accuracy'])"
   ]
  },
  {
   "cell_type": "code",
   "execution_count": 345,
   "metadata": {},
   "outputs": [
    {
     "name": "stdout",
     "output_type": "stream",
     "text": [
      "Epoch 1/150\n",
      "37/37 [==============================] - 0s 3ms/step - loss: 0.5816 - accuracy: 0.8228\n",
      "Epoch 2/150\n",
      "37/37 [==============================] - 0s 3ms/step - loss: 0.5783 - accuracy: 0.8176\n",
      "Epoch 3/150\n",
      "37/37 [==============================] - 0s 3ms/step - loss: 0.5765 - accuracy: 0.8176\n",
      "Epoch 4/150\n",
      "37/37 [==============================] - 0s 2ms/step - loss: 0.5758 - accuracy: 0.8185\n",
      "Epoch 5/150\n",
      "37/37 [==============================] - 0s 4ms/step - loss: 0.5763 - accuracy: 0.8176\n",
      "Epoch 6/150\n",
      "37/37 [==============================] - 0s 2ms/step - loss: 0.5725 - accuracy: 0.8202\n",
      "Epoch 7/150\n",
      "37/37 [==============================] - 0s 2ms/step - loss: 0.5710 - accuracy: 0.8228\n",
      "Epoch 8/150\n",
      "37/37 [==============================] - 0s 2ms/step - loss: 0.5730 - accuracy: 0.8236\n",
      "Epoch 9/150\n",
      "37/37 [==============================] - 0s 2ms/step - loss: 0.5724 - accuracy: 0.8219\n",
      "Epoch 10/150\n",
      "37/37 [==============================] - 0s 3ms/step - loss: 0.5712 - accuracy: 0.8202\n",
      "Epoch 11/150\n",
      "37/37 [==============================] - 0s 3ms/step - loss: 0.5672 - accuracy: 0.8245\n",
      "Epoch 12/150\n",
      "37/37 [==============================] - 0s 2ms/step - loss: 0.5664 - accuracy: 0.8245\n",
      "Epoch 13/150\n",
      "37/37 [==============================] - 0s 2ms/step - loss: 0.5645 - accuracy: 0.8253\n",
      "Epoch 14/150\n",
      "37/37 [==============================] - 0s 2ms/step - loss: 0.5680 - accuracy: 0.8245\n",
      "Epoch 15/150\n",
      "37/37 [==============================] - 0s 2ms/step - loss: 0.5644 - accuracy: 0.8211\n",
      "Epoch 16/150\n",
      "37/37 [==============================] - 0s 2ms/step - loss: 0.5625 - accuracy: 0.8262\n",
      "Epoch 17/150\n",
      "37/37 [==============================] - 0s 2ms/step - loss: 0.5638 - accuracy: 0.8288\n",
      "Epoch 18/150\n",
      "37/37 [==============================] - 0s 3ms/step - loss: 0.5604 - accuracy: 0.8279\n",
      "Epoch 19/150\n",
      "37/37 [==============================] - 0s 3ms/step - loss: 0.5603 - accuracy: 0.8271\n",
      "Epoch 20/150\n",
      "37/37 [==============================] - 0s 3ms/step - loss: 0.5608 - accuracy: 0.8305\n",
      "Epoch 21/150\n",
      "37/37 [==============================] - 0s 3ms/step - loss: 0.5594 - accuracy: 0.8236\n",
      "Epoch 22/150\n",
      "37/37 [==============================] - 0s 2ms/step - loss: 0.5570 - accuracy: 0.8296\n",
      "Epoch 23/150\n",
      "37/37 [==============================] - 0s 3ms/step - loss: 0.5563 - accuracy: 0.8313\n",
      "Epoch 24/150\n",
      "37/37 [==============================] - 0s 3ms/step - loss: 0.5556 - accuracy: 0.8313\n",
      "Epoch 25/150\n",
      "37/37 [==============================] - 0s 3ms/step - loss: 0.5542 - accuracy: 0.8305\n",
      "Epoch 26/150\n",
      "37/37 [==============================] - 0s 3ms/step - loss: 0.5528 - accuracy: 0.8296\n",
      "Epoch 27/150\n",
      "37/37 [==============================] - 0s 3ms/step - loss: 0.5521 - accuracy: 0.8348\n",
      "Epoch 28/150\n",
      "37/37 [==============================] - 0s 2ms/step - loss: 0.5516 - accuracy: 0.8373\n",
      "Epoch 29/150\n",
      "37/37 [==============================] - 0s 3ms/step - loss: 0.5495 - accuracy: 0.8330\n",
      "Epoch 30/150\n",
      "37/37 [==============================] - 0s 3ms/step - loss: 0.5472 - accuracy: 0.8348\n",
      "Epoch 31/150\n",
      "37/37 [==============================] - 0s 3ms/step - loss: 0.5551 - accuracy: 0.8313\n",
      "Epoch 32/150\n",
      "37/37 [==============================] - 0s 3ms/step - loss: 0.5471 - accuracy: 0.8348\n",
      "Epoch 33/150\n",
      "37/37 [==============================] - 0s 2ms/step - loss: 0.5470 - accuracy: 0.8322\n",
      "Epoch 34/150\n",
      "37/37 [==============================] - 0s 2ms/step - loss: 0.5448 - accuracy: 0.8348\n",
      "Epoch 35/150\n",
      "37/37 [==============================] - 0s 2ms/step - loss: 0.5448 - accuracy: 0.8365\n",
      "Epoch 36/150\n",
      "37/37 [==============================] - 0s 2ms/step - loss: 0.5442 - accuracy: 0.8373\n",
      "Epoch 37/150\n",
      "37/37 [==============================] - 0s 3ms/step - loss: 0.5439 - accuracy: 0.8339\n",
      "Epoch 38/150\n",
      "37/37 [==============================] - 0s 3ms/step - loss: 0.5443 - accuracy: 0.8382\n",
      "Epoch 39/150\n",
      "37/37 [==============================] - 0s 2ms/step - loss: 0.5407 - accuracy: 0.8382\n",
      "Epoch 40/150\n",
      "37/37 [==============================] - 0s 2ms/step - loss: 0.5399 - accuracy: 0.8399\n",
      "Epoch 41/150\n",
      "37/37 [==============================] - 0s 2ms/step - loss: 0.5380 - accuracy: 0.8433\n",
      "Epoch 42/150\n",
      "37/37 [==============================] - 0s 3ms/step - loss: 0.5370 - accuracy: 0.8399\n",
      "Epoch 43/150\n",
      "37/37 [==============================] - 0s 2ms/step - loss: 0.5370 - accuracy: 0.8433\n",
      "Epoch 44/150\n",
      "37/37 [==============================] - 0s 2ms/step - loss: 0.5347 - accuracy: 0.8416\n",
      "Epoch 45/150\n",
      "37/37 [==============================] - 0s 2ms/step - loss: 0.5364 - accuracy: 0.8433\n",
      "Epoch 46/150\n",
      "37/37 [==============================] - 0s 3ms/step - loss: 0.5391 - accuracy: 0.8416\n",
      "Epoch 47/150\n",
      "37/37 [==============================] - 0s 2ms/step - loss: 0.5359 - accuracy: 0.8425\n",
      "Epoch 48/150\n",
      "37/37 [==============================] - 0s 2ms/step - loss: 0.5328 - accuracy: 0.8433\n",
      "Epoch 49/150\n",
      "37/37 [==============================] - 0s 2ms/step - loss: 0.5351 - accuracy: 0.8433\n",
      "Epoch 50/150\n",
      "37/37 [==============================] - 0s 2ms/step - loss: 0.5311 - accuracy: 0.8425\n",
      "Epoch 51/150\n",
      "37/37 [==============================] - 0s 3ms/step - loss: 0.5322 - accuracy: 0.8459\n",
      "Epoch 52/150\n",
      "37/37 [==============================] - 0s 2ms/step - loss: 0.5307 - accuracy: 0.8467\n",
      "Epoch 53/150\n",
      "37/37 [==============================] - 0s 2ms/step - loss: 0.5323 - accuracy: 0.8408\n",
      "Epoch 54/150\n",
      "37/37 [==============================] - 0s 2ms/step - loss: 0.5320 - accuracy: 0.8467\n",
      "Epoch 55/150\n",
      "37/37 [==============================] - 0s 4ms/step - loss: 0.5359 - accuracy: 0.8390\n",
      "Epoch 56/150\n",
      "37/37 [==============================] - 0s 2ms/step - loss: 0.5254 - accuracy: 0.8510\n",
      "Epoch 57/150\n",
      "37/37 [==============================] - 0s 2ms/step - loss: 0.5283 - accuracy: 0.8459\n",
      "Epoch 58/150\n",
      "37/37 [==============================] - 0s 2ms/step - loss: 0.5249 - accuracy: 0.8502\n",
      "Epoch 59/150\n",
      "37/37 [==============================] - 0s 2ms/step - loss: 0.5272 - accuracy: 0.8450\n",
      "Epoch 60/150\n",
      "37/37 [==============================] - 0s 2ms/step - loss: 0.5256 - accuracy: 0.8493\n",
      "Epoch 61/150\n",
      "37/37 [==============================] - 0s 2ms/step - loss: 0.5272 - accuracy: 0.8485\n",
      "Epoch 62/150\n",
      "37/37 [==============================] - 0s 3ms/step - loss: 0.5213 - accuracy: 0.8519\n",
      "Epoch 63/150\n",
      "37/37 [==============================] - 0s 2ms/step - loss: 0.5220 - accuracy: 0.8510\n",
      "Epoch 64/150\n",
      "37/37 [==============================] - 0s 2ms/step - loss: 0.5229 - accuracy: 0.8502\n",
      "Epoch 65/150\n",
      "37/37 [==============================] - 0s 2ms/step - loss: 0.5239 - accuracy: 0.8485\n",
      "Epoch 66/150\n",
      "37/37 [==============================] - 0s 3ms/step - loss: 0.5193 - accuracy: 0.8510\n",
      "Epoch 67/150\n",
      "37/37 [==============================] - 0s 2ms/step - loss: 0.5203 - accuracy: 0.8519\n",
      "Epoch 68/150\n",
      "37/37 [==============================] - 0s 2ms/step - loss: 0.5187 - accuracy: 0.8536\n",
      "Epoch 69/150\n",
      "37/37 [==============================] - 0s 2ms/step - loss: 0.5202 - accuracy: 0.8510\n",
      "Epoch 70/150\n",
      "37/37 [==============================] - 0s 2ms/step - loss: 0.5195 - accuracy: 0.8493\n",
      "Epoch 71/150\n",
      "37/37 [==============================] - 0s 2ms/step - loss: 0.5180 - accuracy: 0.8545\n",
      "Epoch 72/150\n",
      "37/37 [==============================] - 0s 2ms/step - loss: 0.5162 - accuracy: 0.8519\n",
      "Epoch 73/150\n",
      "37/37 [==============================] - 0s 2ms/step - loss: 0.5161 - accuracy: 0.8553\n",
      "Epoch 74/150\n",
      "37/37 [==============================] - 0s 2ms/step - loss: 0.5171 - accuracy: 0.8545\n",
      "Epoch 75/150\n",
      "37/37 [==============================] - 0s 2ms/step - loss: 0.5165 - accuracy: 0.8527\n",
      "Epoch 76/150\n",
      "37/37 [==============================] - 0s 2ms/step - loss: 0.5145 - accuracy: 0.8545\n",
      "Epoch 77/150\n",
      "37/37 [==============================] - 0s 2ms/step - loss: 0.5139 - accuracy: 0.8536\n",
      "Epoch 78/150\n",
      "37/37 [==============================] - 0s 2ms/step - loss: 0.5145 - accuracy: 0.8553\n",
      "Epoch 79/150\n",
      "37/37 [==============================] - 0s 2ms/step - loss: 0.5116 - accuracy: 0.8545\n",
      "Epoch 80/150\n",
      "37/37 [==============================] - 0s 2ms/step - loss: 0.5116 - accuracy: 0.8545\n",
      "Epoch 81/150\n",
      "37/37 [==============================] - 0s 2ms/step - loss: 0.5129 - accuracy: 0.8545\n",
      "Epoch 82/150\n",
      "37/37 [==============================] - 0s 2ms/step - loss: 0.5212 - accuracy: 0.8545\n",
      "Epoch 83/150\n",
      "37/37 [==============================] - 0s 2ms/step - loss: 0.5094 - accuracy: 0.8536\n",
      "Epoch 84/150\n",
      "37/37 [==============================] - 0s 2ms/step - loss: 0.5151 - accuracy: 0.8562\n",
      "Epoch 85/150\n",
      "37/37 [==============================] - 0s 2ms/step - loss: 0.5118 - accuracy: 0.8553\n",
      "Epoch 86/150\n",
      "37/37 [==============================] - 0s 4ms/step - loss: 0.5118 - accuracy: 0.8553\n",
      "Epoch 87/150\n",
      "37/37 [==============================] - 0s 2ms/step - loss: 0.5125 - accuracy: 0.8562\n",
      "Epoch 88/150\n",
      "37/37 [==============================] - 0s 2ms/step - loss: 0.5085 - accuracy: 0.8570\n",
      "Epoch 89/150\n",
      "37/37 [==============================] - 0s 3ms/step - loss: 0.5084 - accuracy: 0.8570\n",
      "Epoch 90/150\n",
      "37/37 [==============================] - 0s 2ms/step - loss: 0.5104 - accuracy: 0.8545\n",
      "Epoch 91/150\n",
      "37/37 [==============================] - 0s 2ms/step - loss: 0.5097 - accuracy: 0.8562\n",
      "Epoch 92/150\n",
      "37/37 [==============================] - 0s 2ms/step - loss: 0.5093 - accuracy: 0.8562\n",
      "Epoch 93/150\n",
      "37/37 [==============================] - 0s 2ms/step - loss: 0.5096 - accuracy: 0.8562\n",
      "Epoch 94/150\n",
      "37/37 [==============================] - 0s 3ms/step - loss: 0.5137 - accuracy: 0.8545\n",
      "Epoch 95/150\n",
      "37/37 [==============================] - 0s 2ms/step - loss: 0.5058 - accuracy: 0.8562\n",
      "Epoch 96/150\n",
      "37/37 [==============================] - 0s 2ms/step - loss: 0.5086 - accuracy: 0.8545\n",
      "Epoch 97/150\n",
      "37/37 [==============================] - 0s 2ms/step - loss: 0.5070 - accuracy: 0.8570\n",
      "Epoch 98/150\n",
      "37/37 [==============================] - 0s 2ms/step - loss: 0.5083 - accuracy: 0.8562\n",
      "Epoch 99/150\n",
      "37/37 [==============================] - 0s 2ms/step - loss: 0.5043 - accuracy: 0.8553\n",
      "Epoch 100/150\n",
      "37/37 [==============================] - 0s 2ms/step - loss: 0.5049 - accuracy: 0.8570\n",
      "Epoch 101/150\n",
      "37/37 [==============================] - 0s 2ms/step - loss: 0.5085 - accuracy: 0.8562\n",
      "Epoch 102/150\n",
      "37/37 [==============================] - 0s 2ms/step - loss: 0.5059 - accuracy: 0.8562\n",
      "Epoch 103/150\n",
      "37/37 [==============================] - 0s 2ms/step - loss: 0.5081 - accuracy: 0.8570\n",
      "Epoch 104/150\n",
      "37/37 [==============================] - 0s 2ms/step - loss: 0.5068 - accuracy: 0.8553\n",
      "Epoch 105/150\n",
      "37/37 [==============================] - 0s 3ms/step - loss: 0.5064 - accuracy: 0.8570\n",
      "Epoch 106/150\n",
      "37/37 [==============================] - 0s 2ms/step - loss: 0.5043 - accuracy: 0.8570\n",
      "Epoch 107/150\n",
      "37/37 [==============================] - 0s 2ms/step - loss: 0.5038 - accuracy: 0.8570\n",
      "Epoch 108/150\n",
      "37/37 [==============================] - 0s 2ms/step - loss: 0.5029 - accuracy: 0.8562\n",
      "Epoch 109/150\n",
      "37/37 [==============================] - 0s 2ms/step - loss: 0.5052 - accuracy: 0.8562\n",
      "Epoch 110/150\n",
      "37/37 [==============================] - 0s 2ms/step - loss: 0.5096 - accuracy: 0.8553\n",
      "Epoch 111/150\n",
      "37/37 [==============================] - 0s 2ms/step - loss: 0.5094 - accuracy: 0.8570\n",
      "Epoch 112/150\n",
      "37/37 [==============================] - 0s 4ms/step - loss: 0.5064 - accuracy: 0.8545\n",
      "Epoch 113/150\n",
      "37/37 [==============================] - 0s 2ms/step - loss: 0.5052 - accuracy: 0.8570\n",
      "Epoch 114/150\n",
      "37/37 [==============================] - 0s 2ms/step - loss: 0.5026 - accuracy: 0.8562\n",
      "Epoch 115/150\n",
      "37/37 [==============================] - 0s 2ms/step - loss: 0.5061 - accuracy: 0.8570\n",
      "Epoch 116/150\n",
      "37/37 [==============================] - 0s 2ms/step - loss: 0.5049 - accuracy: 0.8570\n",
      "Epoch 117/150\n",
      "37/37 [==============================] - 0s 2ms/step - loss: 0.5036 - accuracy: 0.8570\n",
      "Epoch 118/150\n",
      "37/37 [==============================] - 0s 2ms/step - loss: 0.5025 - accuracy: 0.8570\n",
      "Epoch 119/150\n",
      "37/37 [==============================] - 0s 2ms/step - loss: 0.5018 - accuracy: 0.8562\n",
      "Epoch 120/150\n",
      "37/37 [==============================] - 0s 3ms/step - loss: 0.4995 - accuracy: 0.8570\n",
      "Epoch 121/150\n",
      "37/37 [==============================] - 0s 2ms/step - loss: 0.5022 - accuracy: 0.8570\n",
      "Epoch 122/150\n",
      "37/37 [==============================] - 0s 2ms/step - loss: 0.5014 - accuracy: 0.8553\n",
      "Epoch 123/150\n",
      "37/37 [==============================] - 0s 2ms/step - loss: 0.5089 - accuracy: 0.8570\n",
      "Epoch 124/150\n",
      "37/37 [==============================] - 0s 2ms/step - loss: 0.5038 - accuracy: 0.8562\n",
      "Epoch 125/150\n",
      "37/37 [==============================] - 0s 3ms/step - loss: 0.5055 - accuracy: 0.8562\n",
      "Epoch 126/150\n",
      "37/37 [==============================] - 0s 3ms/step - loss: 0.4994 - accuracy: 0.8562\n",
      "Epoch 127/150\n",
      "37/37 [==============================] - 0s 2ms/step - loss: 0.5032 - accuracy: 0.8553\n",
      "Epoch 128/150\n",
      "37/37 [==============================] - 0s 2ms/step - loss: 0.5008 - accuracy: 0.8562\n",
      "Epoch 129/150\n",
      "37/37 [==============================] - 0s 2ms/step - loss: 0.5025 - accuracy: 0.8570\n",
      "Epoch 130/150\n",
      "37/37 [==============================] - 0s 2ms/step - loss: 0.5001 - accuracy: 0.8562\n",
      "Epoch 131/150\n",
      "37/37 [==============================] - 0s 2ms/step - loss: 0.5005 - accuracy: 0.8570\n",
      "Epoch 132/150\n",
      "37/37 [==============================] - 0s 2ms/step - loss: 0.5006 - accuracy: 0.8570\n",
      "Epoch 133/150\n",
      "37/37 [==============================] - 0s 2ms/step - loss: 0.4996 - accuracy: 0.8553\n",
      "Epoch 134/150\n",
      "37/37 [==============================] - 0s 2ms/step - loss: 0.5063 - accuracy: 0.8570\n",
      "Epoch 135/150\n",
      "37/37 [==============================] - 0s 2ms/step - loss: 0.5003 - accuracy: 0.8570\n",
      "Epoch 136/150\n",
      "37/37 [==============================] - 0s 2ms/step - loss: 0.5046 - accuracy: 0.8545\n",
      "Epoch 137/150\n",
      "37/37 [==============================] - 0s 3ms/step - loss: 0.5000 - accuracy: 0.8570\n",
      "Epoch 138/150\n",
      "37/37 [==============================] - 0s 3ms/step - loss: 0.5108 - accuracy: 0.8553\n",
      "Epoch 139/150\n",
      "37/37 [==============================] - 0s 3ms/step - loss: 0.5022 - accuracy: 0.8570\n",
      "Epoch 140/150\n",
      "37/37 [==============================] - 0s 2ms/step - loss: 0.4984 - accuracy: 0.8570\n",
      "Epoch 141/150\n",
      "37/37 [==============================] - 0s 2ms/step - loss: 0.4975 - accuracy: 0.8562\n",
      "Epoch 142/150\n",
      "37/37 [==============================] - 0s 2ms/step - loss: 0.4998 - accuracy: 0.8570\n",
      "Epoch 143/150\n",
      "37/37 [==============================] - 0s 2ms/step - loss: 0.4978 - accuracy: 0.8562\n",
      "Epoch 144/150\n",
      "37/37 [==============================] - 0s 2ms/step - loss: 0.5017 - accuracy: 0.8570\n",
      "Epoch 145/150\n",
      "37/37 [==============================] - 0s 2ms/step - loss: 0.5025 - accuracy: 0.8562\n",
      "Epoch 146/150\n",
      "37/37 [==============================] - 0s 3ms/step - loss: 0.4966 - accuracy: 0.8570\n",
      "Epoch 147/150\n",
      "37/37 [==============================] - 0s 3ms/step - loss: 0.5043 - accuracy: 0.8570\n",
      "Epoch 148/150\n",
      "37/37 [==============================] - 0s 2ms/step - loss: 0.4970 - accuracy: 0.8570\n",
      "Epoch 149/150\n",
      "37/37 [==============================] - 0s 2ms/step - loss: 0.5015 - accuracy: 0.8562\n",
      "Epoch 150/150\n",
      "37/37 [==============================] - 0s 2ms/step - loss: 0.5014 - accuracy: 0.8570\n"
     ]
    },
    {
     "data": {
      "text/plain": [
       "<keras.callbacks.History at 0x132f9e9d3f0>"
      ]
     },
     "execution_count": 345,
     "metadata": {},
     "output_type": "execute_result"
    }
   ],
   "source": [
    "classifier.fit(X_train,y_train,epochs = 150, batch_size=32, verbose=1)"
   ]
  },
  {
   "cell_type": "code",
   "execution_count": 346,
   "metadata": {},
   "outputs": [
    {
     "name": "stdout",
     "output_type": "stream",
     "text": [
      "10/10 [==============================] - 0s 2ms/step\n",
      "Accuracy: 80.55%\n"
     ]
    }
   ],
   "source": [
    "y_pred = classifier.predict(X_test)\n",
    "\n",
    "from sklearn.metrics import accuracy_score\n",
    "accuracy = classifier.evaluate(X_test, y_test, verbose=0)\n",
    "print(\"Accuracy: {:.2f}%\".format(accuracy[1] * 100))\n"
   ]
  },
  {
   "attachments": {},
   "cell_type": "markdown",
   "metadata": {},
   "source": [
    "So multi-classification prediction problem has done here, the accuracy which we reach is about 80%. We could have better solution with ML algorithms such as Random Forest, SVC. However we applied neural networks, so there it goes."
   ]
  },
  {
   "attachments": {},
   "cell_type": "markdown",
   "metadata": {},
   "source": [
    "Okay, let's try to solve the same problem with the XGBoost which is comman approach of ML "
   ]
  },
  {
   "attachments": {},
   "cell_type": "markdown",
   "metadata": {},
   "source": [
    "### XGBoost"
   ]
  }
 ],
 "metadata": {
  "kernelspec": {
   "display_name": "Python 3",
   "language": "python",
   "name": "python3"
  },
  "language_info": {
   "codemirror_mode": {
    "name": "ipython",
    "version": 3
   },
   "file_extension": ".py",
   "mimetype": "text/x-python",
   "name": "python",
   "nbconvert_exporter": "python",
   "pygments_lexer": "ipython3",
   "version": "3.10.5"
  },
  "orig_nbformat": 4
 },
 "nbformat": 4,
 "nbformat_minor": 2
}
