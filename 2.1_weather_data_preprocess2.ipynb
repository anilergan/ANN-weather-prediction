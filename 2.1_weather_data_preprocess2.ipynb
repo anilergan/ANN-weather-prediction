{
 "cells": [
  {
   "cell_type": "code",
   "execution_count": 1,
   "metadata": {},
   "outputs": [
    {
     "data": {
      "text/html": [
       "<div>\n",
       "<style scoped>\n",
       "    .dataframe tbody tr th:only-of-type {\n",
       "        vertical-align: middle;\n",
       "    }\n",
       "\n",
       "    .dataframe tbody tr th {\n",
       "        vertical-align: top;\n",
       "    }\n",
       "\n",
       "    .dataframe thead th {\n",
       "        text-align: right;\n",
       "    }\n",
       "</style>\n",
       "<table border=\"1\" class=\"dataframe\">\n",
       "  <thead>\n",
       "    <tr style=\"text-align: right;\">\n",
       "      <th></th>\n",
       "      <th>Temperature</th>\n",
       "      <th>Dew Point</th>\n",
       "      <th>Humidity</th>\n",
       "      <th>Wind Speed</th>\n",
       "      <th>Wind Gust</th>\n",
       "      <th>Pressure</th>\n",
       "      <th>Precip.</th>\n",
       "      <th>Condition</th>\n",
       "    </tr>\n",
       "  </thead>\n",
       "  <tbody>\n",
       "    <tr>\n",
       "      <th>48648</th>\n",
       "      <td>48</td>\n",
       "      <td>39</td>\n",
       "      <td>71</td>\n",
       "      <td>13</td>\n",
       "      <td>0</td>\n",
       "      <td>30.18</td>\n",
       "      <td>0.0</td>\n",
       "      <td>Mostly Cloudy</td>\n",
       "    </tr>\n",
       "    <tr>\n",
       "      <th>48649</th>\n",
       "      <td>48</td>\n",
       "      <td>39</td>\n",
       "      <td>71</td>\n",
       "      <td>12</td>\n",
       "      <td>0</td>\n",
       "      <td>30.18</td>\n",
       "      <td>0.0</td>\n",
       "      <td>Fair</td>\n",
       "    </tr>\n",
       "    <tr>\n",
       "      <th>48650</th>\n",
       "      <td>48</td>\n",
       "      <td>39</td>\n",
       "      <td>71</td>\n",
       "      <td>10</td>\n",
       "      <td>0</td>\n",
       "      <td>30.18</td>\n",
       "      <td>0.0</td>\n",
       "      <td>Fair</td>\n",
       "    </tr>\n",
       "    <tr>\n",
       "      <th>48651</th>\n",
       "      <td>48</td>\n",
       "      <td>39</td>\n",
       "      <td>71</td>\n",
       "      <td>12</td>\n",
       "      <td>0</td>\n",
       "      <td>30.18</td>\n",
       "      <td>0.0</td>\n",
       "      <td>Fair</td>\n",
       "    </tr>\n",
       "    <tr>\n",
       "      <th>48652</th>\n",
       "      <td>48</td>\n",
       "      <td>39</td>\n",
       "      <td>71</td>\n",
       "      <td>13</td>\n",
       "      <td>0</td>\n",
       "      <td>30.18</td>\n",
       "      <td>0.0</td>\n",
       "      <td>Fair</td>\n",
       "    </tr>\n",
       "  </tbody>\n",
       "</table>\n",
       "</div>"
      ],
      "text/plain": [
       "       Temperature  Dew Point  Humidity  Wind Speed  Wind Gust  Pressure  \\\n",
       "48648           48         39        71          13          0     30.18   \n",
       "48649           48         39        71          12          0     30.18   \n",
       "48650           48         39        71          10          0     30.18   \n",
       "48651           48         39        71          12          0     30.18   \n",
       "48652           48         39        71          13          0     30.18   \n",
       "\n",
       "       Precip.      Condition  \n",
       "48648      0.0  Mostly Cloudy  \n",
       "48649      0.0           Fair  \n",
       "48650      0.0           Fair  \n",
       "48651      0.0           Fair  \n",
       "48652      0.0           Fair  "
      ]
     },
     "execution_count": 1,
     "metadata": {},
     "output_type": "execute_result"
    }
   ],
   "source": [
    "import pandas as pd\n",
    "df = pd.read_csv('weather_data_preprocessed1.csv')\n",
    "df.tail()"
   ]
  },
  {
   "attachments": {},
   "cell_type": "markdown",
   "metadata": {},
   "source": [
    "How many different condition(y) value?"
   ]
  },
  {
   "cell_type": "code",
   "execution_count": 2,
   "metadata": {},
   "outputs": [
    {
     "data": {
      "text/plain": [
       "45"
      ]
     },
     "execution_count": 2,
     "metadata": {},
     "output_type": "execute_result"
    }
   ],
   "source": [
    "df['Condition'].nunique()"
   ]
  },
  {
   "cell_type": "code",
   "execution_count": 3,
   "metadata": {},
   "outputs": [
    {
     "data": {
      "text/plain": [
       "Fair                         25369\n",
       "Mostly Cloudy                11270\n",
       "Partly Cloudy                 5146\n",
       "Light Rain Shower             2382\n",
       "Mostly Cloudy / Windy          815\n",
       "Light Rain                     556\n",
       "Fair / Windy                   505\n",
       "Mist                           418\n",
       "Light Snow Shower              371\n",
       "Partly Cloudy / Windy          363\n",
       "Light Rain Shower / Windy      294\n",
       "Cloudy                         162\n",
       "Rain Shower                    116\n",
       "Light Rain with Thunder        112\n",
       "Light Rain / Windy             105\n",
       "Wintry Mix                      87\n",
       "Fog                             83\n",
       "Rain Shower / Windy             62\n",
       "Light Snow Shower / Windy       55\n",
       "Snow Shower                     53\n",
       "T-Storm                         47\n",
       "Thunder in the Vicinity         37\n",
       "Light Drizzle                   37\n",
       "Thunder                         30\n",
       "Rain                            29\n",
       "Patches of Fog                  28\n",
       "Heavy Snow Shower               18\n",
       "T-Storm / Windy                 15\n",
       "Snow Shower / Windy             13\n",
       "Light Snow                      12\n",
       "Wintry Mix / Windy              11\n",
       "Light Snow with Thunder          8\n",
       "Drizzle                          8\n",
       "Light Snow / Windy               7\n",
       "Heavy Snow with Thunder          6\n",
       "Light Drizzle / Windy            6\n",
       "Thunder / Wintry Mix             3\n",
       "Heavy Snow                       3\n",
       "Heavy Snow Shower / Windy        3\n",
       "Mist / Windy                     2\n",
       "Cloudy / Windy                   2\n",
       "Rain / Windy                     1\n",
       "Snow and Thunder                 1\n",
       "Heavy Rain Shower                1\n",
       "Heavy T-Storm                    1\n",
       "Name: Condition, dtype: int64"
      ]
     },
     "execution_count": 3,
     "metadata": {},
     "output_type": "execute_result"
    }
   ],
   "source": [
    "condition = df['Condition'].value_counts()\n",
    "condition"
   ]
  },
  {
   "attachments": {},
   "cell_type": "markdown",
   "metadata": {},
   "source": [
    "We will detect outlier categories and unite the similary categories in same group to make condition(y) category simpler"
   ]
  },
  {
   "cell_type": "code",
   "execution_count": 4,
   "metadata": {},
   "outputs": [],
   "source": [
    "import numpy as np\n",
    "\n",
    "# create a dictionary with the new groups\n",
    "groups = {\n",
    "    \"Fair\": [\"Fair\"],\n",
    "    \"Mostly Cloudy\": [\"Mostly Cloudy\"],\n",
    "    \"Partly Cloudy\": [\"Partly Cloudy\", \"Partly Cloudy / Windy\"],\n",
    "    \"Drizzle\": [\"Light Rain\", \"Light Rain Shower\", \"Light Rain with Thunder\", \"Light Rain / Windy\", \"Light Rain Shower / Windy\", \"Light Drizzle\", \"Light Drizzle / Windy\", \"Drizzle\"],\n",
    "    \"Rain Shower\": [\"Rain Shower\", \"Rain Shower / Windy\", \"Heavy Rain Shower\", \"Rain\", \"Rain / Windy\"],\n",
    "    \"Thunderstorms\": [\"T-Storm\",\"Heavy T-Storm\", \"Thunder in the Vicinity\", \"Thunder\", \"T-Storm / Windy\", \"Thunder / Wintry Mix\", \"Snow and Thunder\", \"Light Snow with Thunder\", \"Heavy Snow with Thunder\"],\n",
    "    \"Wintry\": [\"Wintry Mix\", \"Wintry Mix / Windy\", \"Snow Shower\", \"Light Snow Shower\", \"Snow Shower / Windy\", \"Light Snow Shower / Windy\", \"Light Snow\", \"Light Snow / Windy\", \"Heavy Snow\", \"Heavy Snow Shower\", \"Heavy Snow Shower / Windy\"],\n",
    "    \"Foggy\": [\"Fog\", \"Patches of Fog\", \"Mist\", \"Mist / Windy\"],\n",
    "    \"Mixed\": [\"Mostly Cloudy / Windy\", \"Fair / Windy\", \"Cloudy\", \"Cloudy / Windy\"]\n",
    "}\n"
   ]
  },
  {
   "cell_type": "code",
   "execution_count": 5,
   "metadata": {},
   "outputs": [
    {
     "name": "stderr",
     "output_type": "stream",
     "text": [
      "C:\\Users\\anerg\\AppData\\Local\\Temp\\ipykernel_87304\\2980600954.py:1: FutureWarning: iteritems is deprecated and will be removed in a future version. Use .items instead.\n",
      "  for index, row in df['Condition'].iteritems():\n"
     ]
    },
    {
     "data": {
      "text/plain": [
       "Fair             25369\n",
       "Mostly Cloudy    11270\n",
       "Partly Cloudy     5509\n",
       "Drizzle           3500\n",
       "Mixed             1484\n",
       "Wintry             633\n",
       "Foggy              531\n",
       "Rain Shower        209\n",
       "Thunderstorms      148\n",
       "Name: Condition, dtype: int64"
      ]
     },
     "execution_count": 5,
     "metadata": {},
     "output_type": "execute_result"
    }
   ],
   "source": [
    "\n",
    "for index, row in df['Condition'].iteritems():\n",
    "    for group, items in groups.items():\n",
    "        if row in items:\n",
    "            df.iloc[index, -1] = group\n",
    "\n",
    "            \n",
    "df['Condition'].value_counts()"
   ]
  },
  {
   "attachments": {},
   "cell_type": "markdown",
   "metadata": {},
   "source": [
    "We will apply one-hot-encoder for this column"
   ]
  },
  {
   "cell_type": "code",
   "execution_count": 6,
   "metadata": {},
   "outputs": [
    {
     "data": {
      "text/html": [
       "<div>\n",
       "<style scoped>\n",
       "    .dataframe tbody tr th:only-of-type {\n",
       "        vertical-align: middle;\n",
       "    }\n",
       "\n",
       "    .dataframe tbody tr th {\n",
       "        vertical-align: top;\n",
       "    }\n",
       "\n",
       "    .dataframe thead th {\n",
       "        text-align: right;\n",
       "    }\n",
       "</style>\n",
       "<table border=\"1\" class=\"dataframe\">\n",
       "  <thead>\n",
       "    <tr style=\"text-align: right;\">\n",
       "      <th></th>\n",
       "      <th>Temperature</th>\n",
       "      <th>Dew Point</th>\n",
       "      <th>Humidity</th>\n",
       "      <th>Wind Speed</th>\n",
       "      <th>Wind Gust</th>\n",
       "      <th>Pressure</th>\n",
       "      <th>Precip.</th>\n",
       "      <th>Condition_Drizzle</th>\n",
       "      <th>Condition_Fair</th>\n",
       "      <th>Condition_Foggy</th>\n",
       "      <th>Condition_Mixed</th>\n",
       "      <th>Condition_Mostly Cloudy</th>\n",
       "      <th>Condition_Partly Cloudy</th>\n",
       "      <th>Condition_Rain Shower</th>\n",
       "      <th>Condition_Thunderstorms</th>\n",
       "      <th>Condition_Wintry</th>\n",
       "    </tr>\n",
       "  </thead>\n",
       "  <tbody>\n",
       "    <tr>\n",
       "      <th>48648</th>\n",
       "      <td>48</td>\n",
       "      <td>39</td>\n",
       "      <td>71</td>\n",
       "      <td>13</td>\n",
       "      <td>0</td>\n",
       "      <td>30.18</td>\n",
       "      <td>0.0</td>\n",
       "      <td>0</td>\n",
       "      <td>0</td>\n",
       "      <td>0</td>\n",
       "      <td>0</td>\n",
       "      <td>1</td>\n",
       "      <td>0</td>\n",
       "      <td>0</td>\n",
       "      <td>0</td>\n",
       "      <td>0</td>\n",
       "    </tr>\n",
       "    <tr>\n",
       "      <th>48649</th>\n",
       "      <td>48</td>\n",
       "      <td>39</td>\n",
       "      <td>71</td>\n",
       "      <td>12</td>\n",
       "      <td>0</td>\n",
       "      <td>30.18</td>\n",
       "      <td>0.0</td>\n",
       "      <td>0</td>\n",
       "      <td>1</td>\n",
       "      <td>0</td>\n",
       "      <td>0</td>\n",
       "      <td>0</td>\n",
       "      <td>0</td>\n",
       "      <td>0</td>\n",
       "      <td>0</td>\n",
       "      <td>0</td>\n",
       "    </tr>\n",
       "    <tr>\n",
       "      <th>48650</th>\n",
       "      <td>48</td>\n",
       "      <td>39</td>\n",
       "      <td>71</td>\n",
       "      <td>10</td>\n",
       "      <td>0</td>\n",
       "      <td>30.18</td>\n",
       "      <td>0.0</td>\n",
       "      <td>0</td>\n",
       "      <td>1</td>\n",
       "      <td>0</td>\n",
       "      <td>0</td>\n",
       "      <td>0</td>\n",
       "      <td>0</td>\n",
       "      <td>0</td>\n",
       "      <td>0</td>\n",
       "      <td>0</td>\n",
       "    </tr>\n",
       "    <tr>\n",
       "      <th>48651</th>\n",
       "      <td>48</td>\n",
       "      <td>39</td>\n",
       "      <td>71</td>\n",
       "      <td>12</td>\n",
       "      <td>0</td>\n",
       "      <td>30.18</td>\n",
       "      <td>0.0</td>\n",
       "      <td>0</td>\n",
       "      <td>1</td>\n",
       "      <td>0</td>\n",
       "      <td>0</td>\n",
       "      <td>0</td>\n",
       "      <td>0</td>\n",
       "      <td>0</td>\n",
       "      <td>0</td>\n",
       "      <td>0</td>\n",
       "    </tr>\n",
       "    <tr>\n",
       "      <th>48652</th>\n",
       "      <td>48</td>\n",
       "      <td>39</td>\n",
       "      <td>71</td>\n",
       "      <td>13</td>\n",
       "      <td>0</td>\n",
       "      <td>30.18</td>\n",
       "      <td>0.0</td>\n",
       "      <td>0</td>\n",
       "      <td>1</td>\n",
       "      <td>0</td>\n",
       "      <td>0</td>\n",
       "      <td>0</td>\n",
       "      <td>0</td>\n",
       "      <td>0</td>\n",
       "      <td>0</td>\n",
       "      <td>0</td>\n",
       "    </tr>\n",
       "  </tbody>\n",
       "</table>\n",
       "</div>"
      ],
      "text/plain": [
       "       Temperature  Dew Point  Humidity  Wind Speed  Wind Gust  Pressure  \\\n",
       "48648           48         39        71          13          0     30.18   \n",
       "48649           48         39        71          12          0     30.18   \n",
       "48650           48         39        71          10          0     30.18   \n",
       "48651           48         39        71          12          0     30.18   \n",
       "48652           48         39        71          13          0     30.18   \n",
       "\n",
       "       Precip.  Condition_Drizzle  Condition_Fair  Condition_Foggy  \\\n",
       "48648      0.0                  0               0                0   \n",
       "48649      0.0                  0               1                0   \n",
       "48650      0.0                  0               1                0   \n",
       "48651      0.0                  0               1                0   \n",
       "48652      0.0                  0               1                0   \n",
       "\n",
       "       Condition_Mixed  Condition_Mostly Cloudy  Condition_Partly Cloudy  \\\n",
       "48648                0                        1                        0   \n",
       "48649                0                        0                        0   \n",
       "48650                0                        0                        0   \n",
       "48651                0                        0                        0   \n",
       "48652                0                        0                        0   \n",
       "\n",
       "       Condition_Rain Shower  Condition_Thunderstorms  Condition_Wintry  \n",
       "48648                      0                        0                 0  \n",
       "48649                      0                        0                 0  \n",
       "48650                      0                        0                 0  \n",
       "48651                      0                        0                 0  \n",
       "48652                      0                        0                 0  "
      ]
     },
     "execution_count": 6,
     "metadata": {},
     "output_type": "execute_result"
    }
   ],
   "source": [
    "df = pd.get_dummies(df, columns = ['Condition'])\n",
    "df.tail()\n",
    "# I just noticed that precip column is unneccessary"
   ]
  },
  {
   "cell_type": "code",
   "execution_count": 7,
   "metadata": {},
   "outputs": [],
   "source": [
    "df.drop(columns='Precip.', inplace=True)\n"
   ]
  },
  {
   "cell_type": "code",
   "execution_count": 12,
   "metadata": {},
   "outputs": [],
   "source": [
    "df.to_csv('weather_data_preprocessed2.csv', index = False)"
   ]
  }
 ],
 "metadata": {
  "kernelspec": {
   "display_name": "Python 3",
   "language": "python",
   "name": "python3"
  },
  "language_info": {
   "codemirror_mode": {
    "name": "ipython",
    "version": 3
   },
   "file_extension": ".py",
   "mimetype": "text/x-python",
   "name": "python",
   "nbconvert_exporter": "python",
   "pygments_lexer": "ipython3",
   "version": "3.10.5"
  },
  "orig_nbformat": 4
 },
 "nbformat": 4,
 "nbformat_minor": 2
}
