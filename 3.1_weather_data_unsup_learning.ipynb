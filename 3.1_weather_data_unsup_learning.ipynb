{
 "cells": [
  {
   "attachments": {},
   "cell_type": "markdown",
   "metadata": {},
   "source": [
    "# Unsupervised Learning Techniques for weather data"
   ]
  },
  {
   "attachments": {},
   "cell_type": "markdown",
   "metadata": {},
   "source": [
    "## K-Means"
   ]
  },
  {
   "cell_type": "code",
   "execution_count": 124,
   "metadata": {},
   "outputs": [],
   "source": [
    "import numpy as np\n",
    "import pandas as pd\n",
    "import seaborn as sns\n",
    "import matplotlib.pyplot as plt\n",
    "import scipy as sp\n"
   ]
  },
  {
   "cell_type": "code",
   "execution_count": 125,
   "metadata": {},
   "outputs": [],
   "source": [
    "from sklearn.cluster import KMeans"
   ]
  },
  {
   "cell_type": "code",
   "execution_count": 126,
   "metadata": {},
   "outputs": [
    {
     "data": {
      "text/html": [
       "<div>\n",
       "<style scoped>\n",
       "    .dataframe tbody tr th:only-of-type {\n",
       "        vertical-align: middle;\n",
       "    }\n",
       "\n",
       "    .dataframe tbody tr th {\n",
       "        vertical-align: top;\n",
       "    }\n",
       "\n",
       "    .dataframe thead th {\n",
       "        text-align: right;\n",
       "    }\n",
       "</style>\n",
       "<table border=\"1\" class=\"dataframe\">\n",
       "  <thead>\n",
       "    <tr style=\"text-align: right;\">\n",
       "      <th></th>\n",
       "      <th>Temperature(°C)</th>\n",
       "      <th>Dew Point(°F)</th>\n",
       "      <th>Humidity(°%)</th>\n",
       "      <th>Wind Speed(°mph)</th>\n",
       "      <th>Wind Gust(°mph)</th>\n",
       "      <th>Pressure(°in)</th>\n",
       "      <th>Precip.</th>\n",
       "      <th>Cloudy</th>\n",
       "      <th>Cloudy / Windy</th>\n",
       "      <th>Drizzle</th>\n",
       "      <th>...</th>\n",
       "      <th>Snow Shower</th>\n",
       "      <th>Snow Shower / Windy</th>\n",
       "      <th>Snow and Thunder</th>\n",
       "      <th>T-Storm</th>\n",
       "      <th>T-Storm / Windy</th>\n",
       "      <th>Thunder</th>\n",
       "      <th>Thunder / Wintry Mix</th>\n",
       "      <th>Thunder in the Vicinity</th>\n",
       "      <th>Wintry Mix</th>\n",
       "      <th>Wintry Mix / Windy</th>\n",
       "    </tr>\n",
       "  </thead>\n",
       "  <tbody>\n",
       "    <tr>\n",
       "      <th>48166</th>\n",
       "      <td>9</td>\n",
       "      <td>4</td>\n",
       "      <td>71</td>\n",
       "      <td>13</td>\n",
       "      <td>0</td>\n",
       "      <td>31</td>\n",
       "      <td>0.0</td>\n",
       "      <td>0</td>\n",
       "      <td>0</td>\n",
       "      <td>0</td>\n",
       "      <td>...</td>\n",
       "      <td>0</td>\n",
       "      <td>0</td>\n",
       "      <td>0</td>\n",
       "      <td>0</td>\n",
       "      <td>0</td>\n",
       "      <td>0</td>\n",
       "      <td>0</td>\n",
       "      <td>0</td>\n",
       "      <td>0</td>\n",
       "      <td>0</td>\n",
       "    </tr>\n",
       "    <tr>\n",
       "      <th>48167</th>\n",
       "      <td>9</td>\n",
       "      <td>4</td>\n",
       "      <td>71</td>\n",
       "      <td>12</td>\n",
       "      <td>0</td>\n",
       "      <td>31</td>\n",
       "      <td>0.0</td>\n",
       "      <td>0</td>\n",
       "      <td>0</td>\n",
       "      <td>0</td>\n",
       "      <td>...</td>\n",
       "      <td>0</td>\n",
       "      <td>0</td>\n",
       "      <td>0</td>\n",
       "      <td>0</td>\n",
       "      <td>0</td>\n",
       "      <td>0</td>\n",
       "      <td>0</td>\n",
       "      <td>0</td>\n",
       "      <td>0</td>\n",
       "      <td>0</td>\n",
       "    </tr>\n",
       "    <tr>\n",
       "      <th>48168</th>\n",
       "      <td>9</td>\n",
       "      <td>4</td>\n",
       "      <td>71</td>\n",
       "      <td>10</td>\n",
       "      <td>0</td>\n",
       "      <td>31</td>\n",
       "      <td>0.0</td>\n",
       "      <td>0</td>\n",
       "      <td>0</td>\n",
       "      <td>0</td>\n",
       "      <td>...</td>\n",
       "      <td>0</td>\n",
       "      <td>0</td>\n",
       "      <td>0</td>\n",
       "      <td>0</td>\n",
       "      <td>0</td>\n",
       "      <td>0</td>\n",
       "      <td>0</td>\n",
       "      <td>0</td>\n",
       "      <td>0</td>\n",
       "      <td>0</td>\n",
       "    </tr>\n",
       "    <tr>\n",
       "      <th>48169</th>\n",
       "      <td>9</td>\n",
       "      <td>4</td>\n",
       "      <td>71</td>\n",
       "      <td>12</td>\n",
       "      <td>0</td>\n",
       "      <td>31</td>\n",
       "      <td>0.0</td>\n",
       "      <td>0</td>\n",
       "      <td>0</td>\n",
       "      <td>0</td>\n",
       "      <td>...</td>\n",
       "      <td>0</td>\n",
       "      <td>0</td>\n",
       "      <td>0</td>\n",
       "      <td>0</td>\n",
       "      <td>0</td>\n",
       "      <td>0</td>\n",
       "      <td>0</td>\n",
       "      <td>0</td>\n",
       "      <td>0</td>\n",
       "      <td>0</td>\n",
       "    </tr>\n",
       "    <tr>\n",
       "      <th>48170</th>\n",
       "      <td>9</td>\n",
       "      <td>4</td>\n",
       "      <td>71</td>\n",
       "      <td>13</td>\n",
       "      <td>0</td>\n",
       "      <td>31</td>\n",
       "      <td>0.0</td>\n",
       "      <td>0</td>\n",
       "      <td>0</td>\n",
       "      <td>0</td>\n",
       "      <td>...</td>\n",
       "      <td>0</td>\n",
       "      <td>0</td>\n",
       "      <td>0</td>\n",
       "      <td>0</td>\n",
       "      <td>0</td>\n",
       "      <td>0</td>\n",
       "      <td>0</td>\n",
       "      <td>0</td>\n",
       "      <td>0</td>\n",
       "      <td>0</td>\n",
       "    </tr>\n",
       "  </tbody>\n",
       "</table>\n",
       "<p>5 rows × 52 columns</p>\n",
       "</div>"
      ],
      "text/plain": [
       "       Temperature(°C)  Dew Point(°F)  Humidity(°%)  Wind Speed(°mph)  \\\n",
       "48166                9              4            71                13   \n",
       "48167                9              4            71                12   \n",
       "48168                9              4            71                10   \n",
       "48169                9              4            71                12   \n",
       "48170                9              4            71                13   \n",
       "\n",
       "       Wind Gust(°mph)  Pressure(°in)  Precip.  Cloudy  Cloudy / Windy  \\\n",
       "48166                0             31      0.0       0               0   \n",
       "48167                0             31      0.0       0               0   \n",
       "48168                0             31      0.0       0               0   \n",
       "48169                0             31      0.0       0               0   \n",
       "48170                0             31      0.0       0               0   \n",
       "\n",
       "       Drizzle  ...  Snow Shower  Snow Shower / Windy  Snow and Thunder  \\\n",
       "48166        0  ...            0                    0                 0   \n",
       "48167        0  ...            0                    0                 0   \n",
       "48168        0  ...            0                    0                 0   \n",
       "48169        0  ...            0                    0                 0   \n",
       "48170        0  ...            0                    0                 0   \n",
       "\n",
       "       T-Storm  T-Storm / Windy  Thunder  Thunder / Wintry Mix  \\\n",
       "48166        0                0        0                     0   \n",
       "48167        0                0        0                     0   \n",
       "48168        0                0        0                     0   \n",
       "48169        0                0        0                     0   \n",
       "48170        0                0        0                     0   \n",
       "\n",
       "       Thunder in the Vicinity  Wintry Mix  Wintry Mix / Windy  \n",
       "48166                        0           0                   0  \n",
       "48167                        0           0                   0  \n",
       "48168                        0           0                   0  \n",
       "48169                        0           0                   0  \n",
       "48170                        0           0                   0  \n",
       "\n",
       "[5 rows x 52 columns]"
      ]
     },
     "execution_count": 126,
     "metadata": {},
     "output_type": "execute_result"
    }
   ],
   "source": [
    "dfXy = pd.read_csv('weather_data.csv', usecols=range(8)).copy() #using X and Y variables \n",
    "dfX = pd.read_csv('weather_data.csv', usecols=range(7)).copy() #using only X variables\n",
    "df_dummies = pd.get_dummies(dfXy['Condition']) #get_dummies() is applied to Y\n",
    "df_with_dummies = pd.concat([dfX, df_dummies], axis=1) #using X and and Y but with dummy variables\n",
    "df_with_dummies.tail()"
   ]
  },
  {
   "cell_type": "code",
   "execution_count": 127,
   "metadata": {},
   "outputs": [],
   "source": [
    "from sklearn.preprocessing import StandardScaler\n",
    "\n",
    "scaler = StandardScaler()\n",
    "df_with_dummies_sc = scaler.fit_transform(df_with_dummies)"
   ]
  },
  {
   "attachments": {},
   "cell_type": "markdown",
   "metadata": {},
   "source": [
    "### Determination of optimum number of clusters"
   ]
  },
  {
   "cell_type": "code",
   "execution_count": 128,
   "metadata": {},
   "outputs": [],
   "source": [
    "from yellowbrick.cluster import KElbowVisualizer\n",
    "kmeans = KMeans()\n",
    "visualizer = KElbowVisualizer(kmeans, k=(1,10))"
   ]
  },
  {
   "attachments": {},
   "cell_type": "markdown",
   "metadata": {},
   "source": [
    "Avoid warnings:"
   ]
  },
  {
   "cell_type": "code",
   "execution_count": 129,
   "metadata": {},
   "outputs": [],
   "source": [
    "import warnings\n",
    "warnings.filterwarnings(\"ignore\", category=FutureWarning)"
   ]
  },
  {
   "cell_type": "code",
   "execution_count": 130,
   "metadata": {},
   "outputs": [
    {
     "name": "stderr",
     "output_type": "stream",
     "text": [
      "c:\\Users\\anerg\\AppData\\Local\\Programs\\Python\\Python310\\lib\\site-packages\\yellowbrick\\utils\\kneed.py:156: YellowbrickWarning: No 'knee' or 'elbow point' detected This could be due to bad clustering, no actual clusters being formed etc.\n",
      "  warnings.warn(warning_message, YellowbrickWarning)\n",
      "c:\\Users\\anerg\\AppData\\Local\\Programs\\Python\\Python310\\lib\\site-packages\\yellowbrick\\cluster\\elbow.py:374: YellowbrickWarning: No 'knee' or 'elbow' point detected, pass `locate_elbow=False` to remove the warning\n",
      "  warnings.warn(warning_message, YellowbrickWarning)\n"
     ]
    },
    {
     "data": {
      "image/png": "[encoded data removed]",
      "text/plain": [
       "<Figure size 800x550 with 2 Axes>"
      ]
     },
     "metadata": {},
     "output_type": "display_data"
    },
    {
     "data": {
      "text/plain": [
       "<AxesSubplot:title={'center':'Distortion Score Elbow for KMeans Clustering'}, xlabel='k', ylabel='distortion score'>"
      ]
     },
     "execution_count": 130,
     "metadata": {},
     "output_type": "execute_result"
    }
   ],
   "source": [
    "visualizer.fit(df_with_dummies_sc)\n",
    "visualizer.poof()"
   ]
  },
  {
   "attachments": {},
   "cell_type": "markdown",
   "metadata": {},
   "source": [
    "Let's assume that best k = 6"
   ]
  },
  {
   "cell_type": "code",
   "execution_count": 131,
   "metadata": {},
   "outputs": [
    {
     "name": "stdout",
     "output_type": "stream",
     "text": [
      "['Light Rain']\n",
      "['Fair', 'Thunder', 'Light Rain with Thunder', 'Thunder in the Vicinity', 'Heavy Rain Shower', 'Heavy T-Storm']\n",
      "['Mostly Cloudy / Windy', 'Light Rain Shower / Windy', 'Fair', 'Fair / Windy', 'Rain Shower / Windy', 'Partly Cloudy / Windy', 'Mostly Cloudy', 'Light Snow Shower / Windy', 'Light Snow Shower', 'Snow Shower / Windy', 'T-Storm / Windy', 'Cloudy', 'Cloudy / Windy', 'Light Rain / Windy', 'Light Rain with Thunder', 'Thunder', 'Light Drizzle / Windy', 'Wintry Mix', 'Light Snow', 'Light Snow / Windy', 'Snow Shower', 'Mist / Windy', 'Rain Shower', 'T-Storm', 'Wintry Mix / Windy', 'Light Snow with Thunder', 'Heavy Snow Shower', 'Heavy Snow with Thunder', 'Partly Cloudy']\n",
      "['Light Rain Shower']\n",
      "['Mostly Cloudy', 'Rain Shower', 'Cloudy', 'Rain', 'Mist', 'Light Drizzle', 'Light Rain with Thunder', 'Wintry Mix / Windy', 'Wintry Mix', 'Snow Shower', 'Heavy Snow Shower / Windy', 'Heavy Snow Shower', 'Fog', 'Drizzle', 'T-Storm', 'Light Rain / Windy', 'Patches of Fog', 'Light Drizzle / Windy', 'Heavy Snow', 'Thunder / Wintry Mix', 'Rain / Windy', 'Snow and Thunder', 'Heavy Snow with Thunder']\n",
      "['Partly Cloudy']\n"
     ]
    }
   ],
   "source": [
    "k = 6\n",
    "kmeans = KMeans(n_clusters=k, init = 'k-means++',random_state=23) #best n_clusters evaluated as 4\n",
    "k_fit = kmeans.fit(df_with_dummies_sc)\n",
    "dfXy['Cluster'] = kmeans.predict(df_with_dummies_sc)\n",
    "\n",
    "cluster_mapping = {}\n",
    "for i in range(k):\n",
    "    # Filter dataframe to rows with cluster label i and get unique weather conditions\n",
    "    conditions = dfXy.loc[dfXy['Cluster'] == i, 'Condition'].unique().tolist()\n",
    "    # Add cluster label and associated weather conditions to dictionary\n",
    "    cluster_mapping[i] = conditions\n",
    "    print(cluster_mapping[i])\n"
   ]
  },
  {
   "attachments": {},
   "cell_type": "markdown",
   "metadata": {},
   "source": [
    "---"
   ]
  },
  {
   "attachments": {},
   "cell_type": "markdown",
   "metadata": {},
   "source": [
    "#### Extract outliers and try again."
   ]
  },
  {
   "cell_type": "code",
   "execution_count": 132,
   "metadata": {},
   "outputs": [
    {
     "data": {
      "text/plain": [
       "array([25111, 11142,  5072,  2364,   815,   556,   505,   417,   371,\n",
       "         363,   294,   162,   113,   112,   105,    87,    83,    62,\n",
       "          55,    53,    47,    37,    37,    30,    29,    28,    18,\n",
       "          15,    13,    12,    11,     8,     8,     7,     6,     6,\n",
       "           3,     3,     3,     2,     2,     1,     1,     1,     1],\n",
       "      dtype=int64)"
      ]
     },
     "execution_count": 132,
     "metadata": {},
     "output_type": "execute_result"
    }
   ],
   "source": [
    "condition_counts = dfXy.loc[:,'Condition'].value_counts()\n",
    "con_counts_array = condition_counts.values\n",
    "# percentile = condition_counts.sum() * 0.001\n",
    "# outliers = condition_counts[condition_counts < percentile].index\n",
    "# outliers\n",
    "con_counts_array"
   ]
  },
  {
   "attachments": {},
   "cell_type": "markdown",
   "metadata": {},
   "source": [
    "##### Outliers detection with isoaltion forest"
   ]
  },
  {
   "cell_type": "code",
   "execution_count": 133,
   "metadata": {},
   "outputs": [
    {
     "name": "stdout",
     "output_type": "stream",
     "text": [
      "[0 1 2 3 4]\n"
     ]
    }
   ],
   "source": [
    "from sklearn.ensemble import IsolationForest\n",
    "isofor = IsolationForest(random_state = 23).fit(con_counts_array.reshape(-1,1))\n",
    "outliers = isofor.predict(con_counts_array.reshape(-1,1))\n",
    "print(np.where(outliers == -1)[0])\n"
   ]
  },
  {
   "attachments": {},
   "cell_type": "markdown",
   "metadata": {},
   "source": [
    "##### Outliers detection with Z-score"
   ]
  },
  {
   "cell_type": "code",
   "execution_count": 134,
   "metadata": {},
   "outputs": [
    {
     "data": {
      "text/plain": [
       "'\\nOutput: [0 1]\\neventhough threshold is assigned 1  \\n'"
      ]
     },
     "execution_count": 134,
     "metadata": {},
     "output_type": "execute_result"
    }
   ],
   "source": [
    "# from scipy import stats\n",
    "# z_scores = np.abs(stats.zscore(con_counts_array))\n",
    "# threshold = 1\n",
    "# outliers = np.where(z_scores > threshold)[0]\n",
    "# print(outliers) \n",
    "\n",
    "\"\"\"\n",
    "Output: [0 1]\n",
    "eventhough threshold is assigned 1  \n",
    "\"\"\""
   ]
  },
  {
   "attachments": {},
   "cell_type": "markdown",
   "metadata": {},
   "source": [
    "---"
   ]
  },
  {
   "cell_type": "code",
   "execution_count": 143,
   "metadata": {},
   "outputs": [
    {
     "data": {
      "text/plain": [
       "Index(['Mostly Cloudy / Windy', 'Light Rain', 'Fair / Windy', 'Mist',\n",
       "       'Light Snow Shower', 'Partly Cloudy / Windy',\n",
       "       'Light Rain Shower / Windy', 'Cloudy', 'Rain Shower',\n",
       "       'Light Rain with Thunder', 'Light Rain / Windy', 'Wintry Mix', 'Fog',\n",
       "       'Rain Shower / Windy', 'Light Snow Shower / Windy', 'Snow Shower',\n",
       "       'T-Storm', 'Thunder in the Vicinity', 'Light Drizzle', 'Thunder',\n",
       "       'Rain', 'Patches of Fog', 'Heavy Snow Shower', 'T-Storm / Windy',\n",
       "       'Snow Shower / Windy', 'Light Snow', 'Wintry Mix / Windy',\n",
       "       'Light Snow with Thunder', 'Drizzle', 'Light Snow / Windy',\n",
       "       'Heavy Snow with Thunder', 'Light Drizzle / Windy',\n",
       "       'Thunder / Wintry Mix', 'Heavy Snow', 'Heavy Snow Shower / Windy',\n",
       "       'Mist / Windy', 'Cloudy / Windy', 'Rain / Windy', 'Snow and Thunder',\n",
       "       'Heavy Rain Shower', 'Heavy T-Storm'],\n",
       "      dtype='object')"
      ]
     },
     "execution_count": 143,
     "metadata": {},
     "output_type": "execute_result"
    }
   ],
   "source": [
    "outliers = condition_counts.iloc[4:].index\n",
    "# Mostly Cloudy / Windy does not sound sense suddenly\n",
    "outliers"
   ]
  },
  {
   "cell_type": "code",
   "execution_count": 144,
   "metadata": {},
   "outputs": [
    {
     "data": {
      "text/html": [
       "<div>\n",
       "<style scoped>\n",
       "    .dataframe tbody tr th:only-of-type {\n",
       "        vertical-align: middle;\n",
       "    }\n",
       "\n",
       "    .dataframe tbody tr th {\n",
       "        vertical-align: top;\n",
       "    }\n",
       "\n",
       "    .dataframe thead th {\n",
       "        text-align: right;\n",
       "    }\n",
       "</style>\n",
       "<table border=\"1\" class=\"dataframe\">\n",
       "  <thead>\n",
       "    <tr style=\"text-align: right;\">\n",
       "      <th></th>\n",
       "      <th>index</th>\n",
       "      <th>Temperature(°C)</th>\n",
       "      <th>Dew Point(°F)</th>\n",
       "      <th>Humidity(°%)</th>\n",
       "      <th>Wind Speed(°mph)</th>\n",
       "      <th>Wind Gust(°mph)</th>\n",
       "      <th>Pressure(°in)</th>\n",
       "      <th>Precip.</th>\n",
       "      <th>Condition</th>\n",
       "      <th>Cluster</th>\n",
       "    </tr>\n",
       "  </thead>\n",
       "  <tbody>\n",
       "    <tr>\n",
       "      <th>0</th>\n",
       "      <td>0</td>\n",
       "      <td>3</td>\n",
       "      <td>2</td>\n",
       "      <td>87</td>\n",
       "      <td>3</td>\n",
       "      <td>0</td>\n",
       "      <td>31</td>\n",
       "      <td>0.0</td>\n",
       "      <td>Partly Cloudy</td>\n",
       "      <td>5</td>\n",
       "    </tr>\n",
       "    <tr>\n",
       "      <th>1</th>\n",
       "      <td>1</td>\n",
       "      <td>8</td>\n",
       "      <td>3</td>\n",
       "      <td>76</td>\n",
       "      <td>9</td>\n",
       "      <td>0</td>\n",
       "      <td>31</td>\n",
       "      <td>0.0</td>\n",
       "      <td>Mostly Cloudy</td>\n",
       "      <td>4</td>\n",
       "    </tr>\n",
       "    <tr>\n",
       "      <th>2</th>\n",
       "      <td>2</td>\n",
       "      <td>8</td>\n",
       "      <td>4</td>\n",
       "      <td>81</td>\n",
       "      <td>8</td>\n",
       "      <td>0</td>\n",
       "      <td>31</td>\n",
       "      <td>0.0</td>\n",
       "      <td>Mostly Cloudy</td>\n",
       "      <td>4</td>\n",
       "    </tr>\n",
       "    <tr>\n",
       "      <th>3</th>\n",
       "      <td>3</td>\n",
       "      <td>7</td>\n",
       "      <td>3</td>\n",
       "      <td>76</td>\n",
       "      <td>6</td>\n",
       "      <td>0</td>\n",
       "      <td>31</td>\n",
       "      <td>0.0</td>\n",
       "      <td>Mostly Cloudy</td>\n",
       "      <td>4</td>\n",
       "    </tr>\n",
       "    <tr>\n",
       "      <th>4</th>\n",
       "      <td>4</td>\n",
       "      <td>5</td>\n",
       "      <td>3</td>\n",
       "      <td>81</td>\n",
       "      <td>5</td>\n",
       "      <td>0</td>\n",
       "      <td>31</td>\n",
       "      <td>0.0</td>\n",
       "      <td>Mostly Cloudy</td>\n",
       "      <td>4</td>\n",
       "    </tr>\n",
       "    <tr>\n",
       "      <th>...</th>\n",
       "      <td>...</td>\n",
       "      <td>...</td>\n",
       "      <td>...</td>\n",
       "      <td>...</td>\n",
       "      <td>...</td>\n",
       "      <td>...</td>\n",
       "      <td>...</td>\n",
       "      <td>...</td>\n",
       "      <td>...</td>\n",
       "      <td>...</td>\n",
       "    </tr>\n",
       "    <tr>\n",
       "      <th>43684</th>\n",
       "      <td>48166</td>\n",
       "      <td>9</td>\n",
       "      <td>4</td>\n",
       "      <td>71</td>\n",
       "      <td>13</td>\n",
       "      <td>0</td>\n",
       "      <td>31</td>\n",
       "      <td>0.0</td>\n",
       "      <td>Mostly Cloudy</td>\n",
       "      <td>4</td>\n",
       "    </tr>\n",
       "    <tr>\n",
       "      <th>43685</th>\n",
       "      <td>48167</td>\n",
       "      <td>9</td>\n",
       "      <td>4</td>\n",
       "      <td>71</td>\n",
       "      <td>12</td>\n",
       "      <td>0</td>\n",
       "      <td>31</td>\n",
       "      <td>0.0</td>\n",
       "      <td>Fair</td>\n",
       "      <td>1</td>\n",
       "    </tr>\n",
       "    <tr>\n",
       "      <th>43686</th>\n",
       "      <td>48168</td>\n",
       "      <td>9</td>\n",
       "      <td>4</td>\n",
       "      <td>71</td>\n",
       "      <td>10</td>\n",
       "      <td>0</td>\n",
       "      <td>31</td>\n",
       "      <td>0.0</td>\n",
       "      <td>Fair</td>\n",
       "      <td>1</td>\n",
       "    </tr>\n",
       "    <tr>\n",
       "      <th>43687</th>\n",
       "      <td>48169</td>\n",
       "      <td>9</td>\n",
       "      <td>4</td>\n",
       "      <td>71</td>\n",
       "      <td>12</td>\n",
       "      <td>0</td>\n",
       "      <td>31</td>\n",
       "      <td>0.0</td>\n",
       "      <td>Fair</td>\n",
       "      <td>1</td>\n",
       "    </tr>\n",
       "    <tr>\n",
       "      <th>43688</th>\n",
       "      <td>48170</td>\n",
       "      <td>9</td>\n",
       "      <td>4</td>\n",
       "      <td>71</td>\n",
       "      <td>13</td>\n",
       "      <td>0</td>\n",
       "      <td>31</td>\n",
       "      <td>0.0</td>\n",
       "      <td>Fair</td>\n",
       "      <td>1</td>\n",
       "    </tr>\n",
       "  </tbody>\n",
       "</table>\n",
       "<p>43689 rows × 10 columns</p>\n",
       "</div>"
      ],
      "text/plain": [
       "       index  Temperature(°C)  Dew Point(°F)  Humidity(°%)  Wind Speed(°mph)  \\\n",
       "0          0                3              2            87                 3   \n",
       "1          1                8              3            76                 9   \n",
       "2          2                8              4            81                 8   \n",
       "3          3                7              3            76                 6   \n",
       "4          4                5              3            81                 5   \n",
       "...      ...              ...            ...           ...               ...   \n",
       "43684  48166                9              4            71                13   \n",
       "43685  48167                9              4            71                12   \n",
       "43686  48168                9              4            71                10   \n",
       "43687  48169                9              4            71                12   \n",
       "43688  48170                9              4            71                13   \n",
       "\n",
       "       Wind Gust(°mph)  Pressure(°in)  Precip.      Condition  Cluster  \n",
       "0                    0             31      0.0  Partly Cloudy        5  \n",
       "1                    0             31      0.0  Mostly Cloudy        4  \n",
       "2                    0             31      0.0  Mostly Cloudy        4  \n",
       "3                    0             31      0.0  Mostly Cloudy        4  \n",
       "4                    0             31      0.0  Mostly Cloudy        4  \n",
       "...                ...            ...      ...            ...      ...  \n",
       "43684                0             31      0.0  Mostly Cloudy        4  \n",
       "43685                0             31      0.0           Fair        1  \n",
       "43686                0             31      0.0           Fair        1  \n",
       "43687                0             31      0.0           Fair        1  \n",
       "43688                0             31      0.0           Fair        1  \n",
       "\n",
       "[43689 rows x 10 columns]"
      ]
     },
     "execution_count": 144,
     "metadata": {},
     "output_type": "execute_result"
    }
   ],
   "source": [
    "df_no_outliers = dfXy[~dfXy['Condition'].isin(outliers)]\n",
    "df_no_outliers.reset_index()"
   ]
  },
  {
   "cell_type": "code",
   "execution_count": 145,
   "metadata": {},
   "outputs": [
    {
     "data": {
      "text/plain": [
       "Fair                 25111\n",
       "Mostly Cloudy        11142\n",
       "Partly Cloudy         5072\n",
       "Light Rain Shower     2364\n",
       "Name: Condition, dtype: int64"
      ]
     },
     "execution_count": 145,
     "metadata": {},
     "output_type": "execute_result"
    }
   ],
   "source": [
    "df_no_outliers['Condition'].value_counts()"
   ]
  },
  {
   "cell_type": "code",
   "execution_count": 74,
   "metadata": {},
   "outputs": [],
   "source": [
    "df_no_outliers_with_dummies = pd.get_dummies(df_no_outliers['Condition'])"
   ]
  },
  {
   "cell_type": "code",
   "execution_count": 75,
   "metadata": {},
   "outputs": [],
   "source": [
    "scaler = StandardScaler()\n",
    "df_no_outliers_with_dummies_sc = scaler.fit_transform(df_no_outliers_with_dummies)"
   ]
  },
  {
   "cell_type": "code",
   "execution_count": 76,
   "metadata": {},
   "outputs": [
    {
     "name": "stderr",
     "output_type": "stream",
     "text": [
      "c:\\Users\\anerg\\AppData\\Local\\Programs\\Python\\Python310\\lib\\site-packages\\yellowbrick\\utils\\kneed.py:156: YellowbrickWarning: No 'knee' or 'elbow point' detected This could be due to bad clustering, no actual clusters being formed etc.\n",
      "  warnings.warn(warning_message, YellowbrickWarning)\n",
      "c:\\Users\\anerg\\AppData\\Local\\Programs\\Python\\Python310\\lib\\site-packages\\yellowbrick\\cluster\\elbow.py:374: YellowbrickWarning: No 'knee' or 'elbow' point detected, pass `locate_elbow=False` to remove the warning\n",
      "  warnings.warn(warning_message, YellowbrickWarning)\n"
     ]
    },
    {
     "data": {
      "image/png": "[encoded data removed]",
      "text/plain": [
       "<Figure size 800x550 with 2 Axes>"
      ]
     },
     "metadata": {},
     "output_type": "display_data"
    },
    {
     "data": {
      "text/plain": [
       "<AxesSubplot:title={'center':'Distortion Score Elbow for KMeans Clustering'}, xlabel='k', ylabel='distortion score'>"
      ]
     },
     "execution_count": 76,
     "metadata": {},
     "output_type": "execute_result"
    }
   ],
   "source": [
    "kmeans = KMeans()\n",
    "visualizer = KElbowVisualizer(kmeans, k=(1,6))\n",
    "visualizer.fit(df_no_outliers_with_dummies_sc)\n",
    "visualizer.poof()"
   ]
  },
  {
   "cell_type": "code",
   "execution_count": 80,
   "metadata": {},
   "outputs": [
    {
     "name": "stdout",
     "output_type": "stream",
     "text": [
      "['Partly Cloudy']\n",
      "['Fair', 'Light Rain Shower / Windy', 'Fair / Windy', 'Rain Shower', 'Rain Shower / Windy', 'Light Rain', 'Cloudy', 'Partly Cloudy / Windy', 'Mist', 'Light Rain with Thunder', 'Light Snow Shower / Windy', 'Light Snow Shower', 'Wintry Mix', 'Snow Shower', 'Fog', 'Light Rain / Windy']\n",
      "['Light Rain Shower']\n",
      "['Mostly Cloudy / Windy']\n",
      "['Mostly Cloudy']\n"
     ]
    },
    {
     "name": "stderr",
     "output_type": "stream",
     "text": [
      "C:\\Users\\anerg\\AppData\\Local\\Temp\\ipykernel_9372\\1727605948.py:4: SettingWithCopyWarning: \n",
      "A value is trying to be set on a copy of a slice from a DataFrame.\n",
      "Try using .loc[row_indexer,col_indexer] = value instead\n",
      "\n",
      "See the caveats in the documentation: https://pandas.pydata.org/pandas-docs/stable/user_guide/indexing.html#returning-a-view-versus-a-copy\n",
      "  df_no_outliers['Cluster'] = kmeans.predict(df_no_outliers_with_dummies_sc)\n"
     ]
    }
   ],
   "source": [
    "\n",
    "k = 5\n",
    "kmeans = KMeans(n_clusters=k, init = 'k-means++',random_state=23) #best n_clusters evaluated as 4\n",
    "k_fit = kmeans.fit(df_no_outliers_with_dummies_sc)\n",
    "df_no_outliers['Cluster'] = kmeans.predict(df_no_outliers_with_dummies_sc)\n",
    "\n",
    "cluster_mapping = {}\n",
    "for i in range(k):\n",
    "    # Filter dataframe to rows with cluster label i and get unique weather conditions\n",
    "    conditions = df_no_outliers.loc[df_no_outliers['Cluster'] == i, 'Condition'].unique().tolist()\n",
    "    # Add cluster label and associated weather conditions to dictionary\n",
    "    cluster_mapping[i] = conditions\n",
    "    print(cluster_mapping[i])"
   ]
  },
  {
   "attachments": {},
   "cell_type": "markdown",
   "metadata": {},
   "source": [
    "----"
   ]
  },
  {
   "cell_type": "code",
   "execution_count": 109,
   "metadata": {},
   "outputs": [
    {
     "data": {
      "text/plain": [
       "array([3, 0, 3, ..., 0, 0, 0])"
      ]
     },
     "execution_count": 109,
     "metadata": {},
     "output_type": "execute_result"
    }
   ],
   "source": [
    "kmeans = KMeans(n_clusters=4, random_state=23) #best n_clusters evaluated as 4\n",
    "k_fit = kmeans.fit(df_with_dummies)\n",
    "clusters = k_fit.labels_\n",
    "clusters"
   ]
  },
  {
   "cell_type": "code",
   "execution_count": 110,
   "metadata": {},
   "outputs": [
    {
     "data": {
      "text/plain": [
       "2    13149\n",
       "3    12611\n",
       "0    12486\n",
       "1     9925\n",
       "Name: Clusters, dtype: int64"
      ]
     },
     "execution_count": 110,
     "metadata": {},
     "output_type": "execute_result"
    }
   ],
   "source": [
    "df_clusters = pd.DataFrame({'Clusters': clusters})\n",
    "df_unsupervised = pd.concat([dfXy, df_clusters], axis=1)\n",
    "df_unsupervised.iloc[:,-1].value_counts()"
   ]
  },
  {
   "attachments": {},
   "cell_type": "markdown",
   "metadata": {},
   "source": [
    "### K-Means Model&Visualization"
   ]
  },
  {
   "cell_type": "code",
   "execution_count": 55,
   "metadata": {},
   "outputs": [],
   "source": [
    "kmeans = KMeans(n_clusters=2)\n",
    "k_fit = kmeans.fit(df_X)"
   ]
  },
  {
   "cell_type": "code",
   "execution_count": 56,
   "metadata": {},
   "outputs": [
    {
     "data": {
      "text/plain": [
       "array([[19.6962762 , 10.92483354, 57.45020962, 11.18377312,  0.3988656 ,\n",
       "        30.08177559,  0.        ],\n",
       "       [13.50845999, 10.32692859, 81.53595498,  9.1222756 ,  0.51831804,\n",
       "        30.20977918,  0.        ]])"
      ]
     },
     "execution_count": 56,
     "metadata": {},
     "output_type": "execute_result"
    }
   ],
   "source": [
    "k_fit.cluster_centers_"
   ]
  },
  {
   "cell_type": "code",
   "execution_count": 57,
   "metadata": {},
   "outputs": [
    {
     "data": {
      "text/plain": [
       "array([1, 1, 1, ..., 1, 1, 1])"
      ]
     },
     "execution_count": 57,
     "metadata": {},
     "output_type": "execute_result"
    }
   ],
   "source": [
    "k_fit.labels_"
   ]
  },
  {
   "cell_type": "code",
   "execution_count": 58,
   "metadata": {},
   "outputs": [
    {
     "data": {
      "text/plain": [
       "<matplotlib.collections.PathCollection at 0x17236a5c5b0>"
      ]
     },
     "execution_count": 58,
     "metadata": {},
     "output_type": "execute_result"
    },
    {
     "data": {
      "image/png": "[encoded data removed]",
      "text/plain": [
       "<Figure size 800x550 with 1 Axes>"
      ]
     },
     "metadata": {},
     "output_type": "display_data"
    }
   ],
   "source": [
    "labels = k_fit.labels_\n",
    "plt.scatter(df.iloc[:,0], df.iloc[:,1],c = labels, s = 50, cmap = 'viridis')"
   ]
  },
  {
   "attachments": {},
   "cell_type": "markdown",
   "metadata": {},
   "source": [
    "### Clustering Weather due to K-Means (k=4) "
   ]
  },
  {
   "cell_type": "code",
   "execution_count": 102,
   "metadata": {},
   "outputs": [
    {
     "data": {
      "text/html": [
       "<div>\n",
       "<style scoped>\n",
       "    .dataframe tbody tr th:only-of-type {\n",
       "        vertical-align: middle;\n",
       "    }\n",
       "\n",
       "    .dataframe tbody tr th {\n",
       "        vertical-align: top;\n",
       "    }\n",
       "\n",
       "    .dataframe thead th {\n",
       "        text-align: right;\n",
       "    }\n",
       "</style>\n",
       "<table border=\"1\" class=\"dataframe\">\n",
       "  <thead>\n",
       "    <tr style=\"text-align: right;\">\n",
       "      <th></th>\n",
       "      <th>Temperature(°C)</th>\n",
       "      <th>Dew Point(°F)</th>\n",
       "      <th>Humidity(°%)</th>\n",
       "      <th>Wind Speed(°mph)</th>\n",
       "      <th>Wind Gust(°mph)</th>\n",
       "      <th>Pressure(°in)</th>\n",
       "      <th>Precip.</th>\n",
       "      <th>Condition</th>\n",
       "      <th>Clusters</th>\n",
       "    </tr>\n",
       "  </thead>\n",
       "  <tbody>\n",
       "    <tr>\n",
       "      <th>48168</th>\n",
       "      <td>9</td>\n",
       "      <td>4</td>\n",
       "      <td>71</td>\n",
       "      <td>10</td>\n",
       "      <td>0</td>\n",
       "      <td>31</td>\n",
       "      <td>0.0</td>\n",
       "      <td>Fair</td>\n",
       "      <td>3</td>\n",
       "    </tr>\n",
       "    <tr>\n",
       "      <th>48169</th>\n",
       "      <td>9</td>\n",
       "      <td>4</td>\n",
       "      <td>71</td>\n",
       "      <td>12</td>\n",
       "      <td>0</td>\n",
       "      <td>31</td>\n",
       "      <td>0.0</td>\n",
       "      <td>Fair</td>\n",
       "      <td>3</td>\n",
       "    </tr>\n",
       "    <tr>\n",
       "      <th>48170</th>\n",
       "      <td>9</td>\n",
       "      <td>4</td>\n",
       "      <td>71</td>\n",
       "      <td>13</td>\n",
       "      <td>0</td>\n",
       "      <td>31</td>\n",
       "      <td>0.0</td>\n",
       "      <td>Fair</td>\n",
       "      <td>3</td>\n",
       "    </tr>\n",
       "  </tbody>\n",
       "</table>\n",
       "</div>"
      ],
      "text/plain": [
       "       Temperature(°C)  Dew Point(°F)  Humidity(°%)  Wind Speed(°mph)  \\\n",
       "48168                9              4            71                10   \n",
       "48169                9              4            71                12   \n",
       "48170                9              4            71                13   \n",
       "\n",
       "       Wind Gust(°mph)  Pressure(°in)  Precip. Condition  Clusters  \n",
       "48168                0             31      0.0      Fair         3  \n",
       "48169                0             31      0.0      Fair         3  \n",
       "48170                0             31      0.0      Fair         3  "
      ]
     },
     "execution_count": 102,
     "metadata": {},
     "output_type": "execute_result"
    }
   ],
   "source": [
    "df_org = pd.read_csv('weather_data.csv')\n",
    "df_org\n",
    "\n",
    "df_with_clusters = pd.concat([df_org, df_unsupervised.loc[:,'Clusters']], axis=1)\n",
    "df_with_clusters.tail(3)"
   ]
  },
  {
   "cell_type": "code",
   "execution_count": 103,
   "metadata": {},
   "outputs": [],
   "source": [
    "df_with_clusters.to_csv('weather_data_unsupervise.csv', index= False)"
   ]
  },
  {
   "cell_type": "code",
   "execution_count": 104,
   "metadata": {},
   "outputs": [
    {
     "name": "stdout",
     "output_type": "stream",
     "text": [
      "\n",
      "Cluster: 0 value counts:\n",
      " ------------------------------ \n",
      " Fair                         4091\n",
      "Mostly Cloudy                3601\n",
      "Light Rain Shower            1803\n",
      "Partly Cloudy                 597\n",
      "Light Rain                    508\n",
      "Mist                          391\n",
      "Light Snow Shower             297\n",
      "Light Rain Shower / Windy     237\n",
      "Mostly Cloudy / Windy         205\n",
      "Rain Shower                   105\n",
      "Cloudy                        100\n",
      "Light Rain / Windy             95\n",
      "Fog                            82\n",
      "Wintry Mix                     81\n",
      "Rain Shower / Windy            60\n",
      "Snow Shower                    52\n",
      "Light Rain with Thunder        47\n",
      "Light Snow Shower / Windy      39\n",
      "T-Storm                        32\n",
      "Light Drizzle                  29\n",
      "Rain                           28\n",
      "Patches of Fog                 25\n",
      "Heavy Snow Shower              18\n",
      "T-Storm / Windy                12\n",
      "Snow Shower / Windy            11\n",
      "Wintry Mix / Windy             11\n",
      "Drizzle                         7\n",
      "Heavy Snow with Thunder         6\n",
      "Light Snow                      6\n",
      "Light Drizzle / Windy           5\n",
      "Light Snow with Thunder         5\n",
      "Fair / Windy                    3\n",
      "Heavy Snow Shower / Windy       3\n",
      "Heavy Snow                      3\n",
      "Thunder / Wintry Mix            3\n",
      "Cloudy / Windy                  2\n",
      "Mist / Windy                    2\n",
      "Thunder in the Vicinity         2\n",
      "Thunder                         1\n",
      "Heavy Rain Shower               1\n",
      "Rain / Windy                    1\n",
      "Snow and Thunder                1\n",
      "Light Snow / Windy              1\n",
      "Partly Cloudy / Windy           1\n",
      "Heavy T-Storm                   1\n",
      "Name: Condition, dtype: int64\n",
      "\n",
      "Cluster: 1 value counts:\n",
      " ------------------------------ \n",
      " Fair                         6929\n",
      "Partly Cloudy                1418\n",
      "Mostly Cloudy                 775\n",
      "Fair / Windy                  379\n",
      "Partly Cloudy / Windy         224\n",
      "Mostly Cloudy / Windy         159\n",
      "Light Rain Shower              26\n",
      "Thunder in the Vicinity         4\n",
      "Light Rain with Thunder         4\n",
      "Thunder                         3\n",
      "Light Rain Shower / Windy       3\n",
      "T-Storm                         1\n",
      "Name: Condition, dtype: int64\n",
      "\n",
      "Cluster: 2 value counts:\n",
      " ------------------------------ \n",
      " Fair                         8235\n",
      "Mostly Cloudy                2406\n",
      "Partly Cloudy                1852\n",
      "Light Rain Shower             290\n",
      "Mostly Cloudy / Windy          85\n",
      "Light Rain with Thunder        52\n",
      "Partly Cloudy / Windy          48\n",
      "Thunder in the Vicinity        31\n",
      "Cloudy                         28\n",
      "Thunder                        25\n",
      "Mist                           21\n",
      "Fair / Windy                   20\n",
      "Light Rain Shower / Windy      18\n",
      "T-Storm                        12\n",
      "Rain Shower                     8\n",
      "Light Rain                      6\n",
      "Patches of Fog                  3\n",
      "Light Drizzle                   3\n",
      "Fog                             1\n",
      "Rain                            1\n",
      "Light Drizzle / Windy           1\n",
      "Drizzle                         1\n",
      "T-Storm / Windy                 1\n",
      "Light Rain / Windy              1\n",
      "Name: Condition, dtype: int64\n",
      "\n",
      "Cluster: 3 value counts:\n",
      " ------------------------------ \n",
      " Fair                         5856\n",
      "Mostly Cloudy                4360\n",
      "Partly Cloudy                1205\n",
      "Mostly Cloudy / Windy         366\n",
      "Light Rain Shower             245\n",
      "Fair / Windy                  103\n",
      "Partly Cloudy / Windy          90\n",
      "Light Snow Shower              74\n",
      "Light Rain                     42\n",
      "Light Rain Shower / Windy      36\n",
      "Cloudy                         34\n",
      "Light Snow Shower / Windy      16\n",
      "Light Rain with Thunder         9\n",
      "Light Rain / Windy              9\n",
      "Wintry Mix                      6\n",
      "Light Snow / Windy              6\n",
      "Light Snow                      6\n",
      "Light Drizzle                   5\n",
      "Mist                            5\n",
      "Light Snow with Thunder         3\n",
      "T-Storm / Windy                 2\n",
      "Rain Shower / Windy             2\n",
      "Snow Shower / Windy             2\n",
      "T-Storm                         2\n",
      "Thunder                         1\n",
      "Snow Shower                     1\n",
      "Name: Condition, dtype: int64\n"
     ]
    }
   ],
   "source": [
    "for cluster in range(4):\n",
    "    df_cluster_group = df_with_clusters.groupby('Clusters').get_group(cluster)\n",
    "    print(f'\\nCluster: {cluster} value counts:\\n','-'*30,'\\n', df_cluster_group['Condition'].value_counts())"
   ]
  },
  {
   "attachments": {},
   "cell_type": "markdown",
   "metadata": {},
   "source": [
    "As it's observed, K-Means does not work well on this dataset. Or there could be another reason. But in my opinion, we should try hierarchical clustering which different algorithm for clustering."
   ]
  },
  {
   "attachments": {},
   "cell_type": "markdown",
   "metadata": {},
   "source": [
    "## Hierarchical Clustering"
   ]
  }
 ],
 "metadata": {
  "kernelspec": {
   "display_name": "Python 3",
   "language": "python",
   "name": "python3"
  },
  "language_info": {
   "codemirror_mode": {
    "name": "ipython",
    "version": 3
   },
   "file_extension": ".py",
   "mimetype": "text/x-python",
   "name": "python",
   "nbconvert_exporter": "python",
   "pygments_lexer": "ipython3",
   "version": "3.10.5"
  },
  "orig_nbformat": 4
 },
 "nbformat": 4,
 "nbformat_minor": 2
}
