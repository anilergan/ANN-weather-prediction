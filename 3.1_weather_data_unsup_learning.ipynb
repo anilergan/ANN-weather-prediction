{
 "cells": [
  {
   "attachments": {},
   "cell_type": "markdown",
   "metadata": {},
   "source": [
    "# Unsupervised Learning Techniques for weather data"
   ]
  },
  {
   "attachments": {},
   "cell_type": "markdown",
   "metadata": {},
   "source": [
    "## K-Means"
   ]
  },
  {
   "cell_type": "code",
   "execution_count": 51,
   "metadata": {},
   "outputs": [],
   "source": [
    "import numpy as np\n",
    "import pandas as pd\n",
    "import seaborn as sns\n",
    "import matplotlib.pyplot as plt\n",
    "import scipy as sp\n"
   ]
  },
  {
   "cell_type": "code",
   "execution_count": 52,
   "metadata": {},
   "outputs": [],
   "source": [
    "from sklearn.cluster import KMeans"
   ]
  },
  {
   "cell_type": "code",
   "execution_count": 53,
   "metadata": {},
   "outputs": [
    {
     "data": {
      "text/html": [
       "<div>\n",
       "<style scoped>\n",
       "    .dataframe tbody tr th:only-of-type {\n",
       "        vertical-align: middle;\n",
       "    }\n",
       "\n",
       "    .dataframe tbody tr th {\n",
       "        vertical-align: top;\n",
       "    }\n",
       "\n",
       "    .dataframe thead th {\n",
       "        text-align: right;\n",
       "    }\n",
       "</style>\n",
       "<table border=\"1\" class=\"dataframe\">\n",
       "  <thead>\n",
       "    <tr style=\"text-align: right;\">\n",
       "      <th></th>\n",
       "      <th>Temperature(°C)</th>\n",
       "      <th>Dew Point(°F)</th>\n",
       "      <th>Humidity(°%)</th>\n",
       "      <th>Wind Speed(°mph)</th>\n",
       "      <th>Wind Gust(°mph)</th>\n",
       "      <th>Pressure(°in)</th>\n",
       "      <th>Precip.</th>\n",
       "      <th>Cloudy</th>\n",
       "      <th>Cloudy / Windy</th>\n",
       "      <th>Drizzle</th>\n",
       "      <th>...</th>\n",
       "      <th>Snow Shower</th>\n",
       "      <th>Snow Shower / Windy</th>\n",
       "      <th>Snow and Thunder</th>\n",
       "      <th>T-Storm</th>\n",
       "      <th>T-Storm / Windy</th>\n",
       "      <th>Thunder</th>\n",
       "      <th>Thunder / Wintry Mix</th>\n",
       "      <th>Thunder in the Vicinity</th>\n",
       "      <th>Wintry Mix</th>\n",
       "      <th>Wintry Mix / Windy</th>\n",
       "    </tr>\n",
       "  </thead>\n",
       "  <tbody>\n",
       "    <tr>\n",
       "      <th>48166</th>\n",
       "      <td>9</td>\n",
       "      <td>4</td>\n",
       "      <td>71</td>\n",
       "      <td>13</td>\n",
       "      <td>0</td>\n",
       "      <td>31</td>\n",
       "      <td>0.0</td>\n",
       "      <td>0</td>\n",
       "      <td>0</td>\n",
       "      <td>0</td>\n",
       "      <td>...</td>\n",
       "      <td>0</td>\n",
       "      <td>0</td>\n",
       "      <td>0</td>\n",
       "      <td>0</td>\n",
       "      <td>0</td>\n",
       "      <td>0</td>\n",
       "      <td>0</td>\n",
       "      <td>0</td>\n",
       "      <td>0</td>\n",
       "      <td>0</td>\n",
       "    </tr>\n",
       "    <tr>\n",
       "      <th>48167</th>\n",
       "      <td>9</td>\n",
       "      <td>4</td>\n",
       "      <td>71</td>\n",
       "      <td>12</td>\n",
       "      <td>0</td>\n",
       "      <td>31</td>\n",
       "      <td>0.0</td>\n",
       "      <td>0</td>\n",
       "      <td>0</td>\n",
       "      <td>0</td>\n",
       "      <td>...</td>\n",
       "      <td>0</td>\n",
       "      <td>0</td>\n",
       "      <td>0</td>\n",
       "      <td>0</td>\n",
       "      <td>0</td>\n",
       "      <td>0</td>\n",
       "      <td>0</td>\n",
       "      <td>0</td>\n",
       "      <td>0</td>\n",
       "      <td>0</td>\n",
       "    </tr>\n",
       "    <tr>\n",
       "      <th>48168</th>\n",
       "      <td>9</td>\n",
       "      <td>4</td>\n",
       "      <td>71</td>\n",
       "      <td>10</td>\n",
       "      <td>0</td>\n",
       "      <td>31</td>\n",
       "      <td>0.0</td>\n",
       "      <td>0</td>\n",
       "      <td>0</td>\n",
       "      <td>0</td>\n",
       "      <td>...</td>\n",
       "      <td>0</td>\n",
       "      <td>0</td>\n",
       "      <td>0</td>\n",
       "      <td>0</td>\n",
       "      <td>0</td>\n",
       "      <td>0</td>\n",
       "      <td>0</td>\n",
       "      <td>0</td>\n",
       "      <td>0</td>\n",
       "      <td>0</td>\n",
       "    </tr>\n",
       "    <tr>\n",
       "      <th>48169</th>\n",
       "      <td>9</td>\n",
       "      <td>4</td>\n",
       "      <td>71</td>\n",
       "      <td>12</td>\n",
       "      <td>0</td>\n",
       "      <td>31</td>\n",
       "      <td>0.0</td>\n",
       "      <td>0</td>\n",
       "      <td>0</td>\n",
       "      <td>0</td>\n",
       "      <td>...</td>\n",
       "      <td>0</td>\n",
       "      <td>0</td>\n",
       "      <td>0</td>\n",
       "      <td>0</td>\n",
       "      <td>0</td>\n",
       "      <td>0</td>\n",
       "      <td>0</td>\n",
       "      <td>0</td>\n",
       "      <td>0</td>\n",
       "      <td>0</td>\n",
       "    </tr>\n",
       "    <tr>\n",
       "      <th>48170</th>\n",
       "      <td>9</td>\n",
       "      <td>4</td>\n",
       "      <td>71</td>\n",
       "      <td>13</td>\n",
       "      <td>0</td>\n",
       "      <td>31</td>\n",
       "      <td>0.0</td>\n",
       "      <td>0</td>\n",
       "      <td>0</td>\n",
       "      <td>0</td>\n",
       "      <td>...</td>\n",
       "      <td>0</td>\n",
       "      <td>0</td>\n",
       "      <td>0</td>\n",
       "      <td>0</td>\n",
       "      <td>0</td>\n",
       "      <td>0</td>\n",
       "      <td>0</td>\n",
       "      <td>0</td>\n",
       "      <td>0</td>\n",
       "      <td>0</td>\n",
       "    </tr>\n",
       "  </tbody>\n",
       "</table>\n",
       "<p>5 rows × 52 columns</p>\n",
       "</div>"
      ],
      "text/plain": [
       "       Temperature(°C)  Dew Point(°F)  Humidity(°%)  Wind Speed(°mph)  \\\n",
       "48166                9              4            71                13   \n",
       "48167                9              4            71                12   \n",
       "48168                9              4            71                10   \n",
       "48169                9              4            71                12   \n",
       "48170                9              4            71                13   \n",
       "\n",
       "       Wind Gust(°mph)  Pressure(°in)  Precip.  Cloudy  Cloudy / Windy  \\\n",
       "48166                0             31      0.0       0               0   \n",
       "48167                0             31      0.0       0               0   \n",
       "48168                0             31      0.0       0               0   \n",
       "48169                0             31      0.0       0               0   \n",
       "48170                0             31      0.0       0               0   \n",
       "\n",
       "       Drizzle  ...  Snow Shower  Snow Shower / Windy  Snow and Thunder  \\\n",
       "48166        0  ...            0                    0                 0   \n",
       "48167        0  ...            0                    0                 0   \n",
       "48168        0  ...            0                    0                 0   \n",
       "48169        0  ...            0                    0                 0   \n",
       "48170        0  ...            0                    0                 0   \n",
       "\n",
       "       T-Storm  T-Storm / Windy  Thunder  Thunder / Wintry Mix  \\\n",
       "48166        0                0        0                     0   \n",
       "48167        0                0        0                     0   \n",
       "48168        0                0        0                     0   \n",
       "48169        0                0        0                     0   \n",
       "48170        0                0        0                     0   \n",
       "\n",
       "       Thunder in the Vicinity  Wintry Mix  Wintry Mix / Windy  \n",
       "48166                        0           0                   0  \n",
       "48167                        0           0                   0  \n",
       "48168                        0           0                   0  \n",
       "48169                        0           0                   0  \n",
       "48170                        0           0                   0  \n",
       "\n",
       "[5 rows x 52 columns]"
      ]
     },
     "execution_count": 53,
     "metadata": {},
     "output_type": "execute_result"
    }
   ],
   "source": [
    "dfXy = pd.read_csv('weather_data.csv', usecols=range(8)).copy()\n",
    "dfX = pd.read_csv('weather_data.csv', usecols=range(7)).copy()\n",
    "df_dummies = pd.get_dummies(dfXy['Condition'])\n",
    "df_with_dummies = pd.concat([dfX, df_dummies], axis=1)\n",
    "df_with_dummies.tail()"
   ]
  },
  {
   "cell_type": "code",
   "execution_count": 54,
   "metadata": {},
   "outputs": [],
   "source": [
    "from sklearn.preprocessing import StandardScaler\n",
    "\n",
    "scaler = StandardScaler()\n",
    "dfX_sc = scaler.fit_transform(dfX)"
   ]
  },
  {
   "attachments": {},
   "cell_type": "markdown",
   "metadata": {},
   "source": [
    "### Determination of optimum number of clusters"
   ]
  },
  {
   "cell_type": "code",
   "execution_count": 55,
   "metadata": {},
   "outputs": [],
   "source": [
    "from yellowbrick.cluster import KElbowVisualizer\n",
    "kmeans = KMeans()\n",
    "visualizer = KElbowVisualizer(kmeans, k=(1,10))"
   ]
  },
  {
   "attachments": {},
   "cell_type": "markdown",
   "metadata": {},
   "source": [
    "Avoid warnings:"
   ]
  },
  {
   "cell_type": "code",
   "execution_count": 56,
   "metadata": {},
   "outputs": [],
   "source": [
    "import warnings\n",
    "warnings.filterwarnings(\"ignore\", category=FutureWarning)"
   ]
  },
  {
   "cell_type": "code",
   "execution_count": 57,
   "metadata": {},
   "outputs": [
    {
     "data": {
      "image/png": "[encoded data removed]",
      "text/plain": [
       "<Figure size 800x550 with 2 Axes>"
      ]
     },
     "metadata": {},
     "output_type": "display_data"
    },
    {
     "data": {
      "text/plain": [
       "<AxesSubplot:title={'center':'Distortion Score Elbow for KMeans Clustering'}, xlabel='k', ylabel='distortion score'>"
      ]
     },
     "execution_count": 57,
     "metadata": {},
     "output_type": "execute_result"
    }
   ],
   "source": [
    "visualizer.fit(dfX)\n",
    "visualizer.poof()"
   ]
  },
  {
   "attachments": {},
   "cell_type": "markdown",
   "metadata": {},
   "source": [
    "Let's assume that best k = 4"
   ]
  },
  {
   "attachments": {},
   "cell_type": "markdown",
   "metadata": {},
   "source": [
    "Another way to figure out the best k"
   ]
  },
  {
   "cell_type": "code",
   "execution_count": null,
   "metadata": {},
   "outputs": [],
   "source": [
    "for i in range(1,10):\n",
    "    kmeans = KMeans(n_clusters=i, init='k-means++', random_state=23)\n",
    "    kmeans.fit()\n"
   ]
  },
  {
   "cell_type": "code",
   "execution_count": null,
   "metadata": {},
   "outputs": [],
   "source": []
  },
  {
   "attachments": {},
   "cell_type": "markdown",
   "metadata": {},
   "source": [
    "ChatGBT does make that:"
   ]
  },
  {
   "cell_type": "code",
   "execution_count": 20,
   "metadata": {},
   "outputs": [
    {
     "name": "stdout",
     "output_type": "stream",
     "text": [
      "{0: array(['Mostly Cloudy'], dtype=object), 1: array(['Fair', 'Light Rain Shower', 'Mostly Cloudy / Windy',\n",
      "       'Light Rain Shower / Windy', 'Fair / Windy', 'Rain Shower',\n",
      "       'Rain Shower / Windy', 'Light Rain', 'Cloudy', 'Rain',\n",
      "       'Partly Cloudy / Windy', 'Light Drizzle',\n",
      "       'Light Rain with Thunder', 'Wintry Mix / Windy',\n",
      "       'Light Snow Shower / Windy', 'Light Snow Shower', 'Wintry Mix',\n",
      "       'Snow Shower', 'Heavy Snow Shower / Windy', 'Heavy Snow Shower',\n",
      "       'Snow Shower / Windy', 'Fog', 'Drizzle', 'Thunder',\n",
      "       'T-Storm / Windy', 'T-Storm', 'Light Rain / Windy',\n",
      "       'Cloudy / Windy', 'Thunder in the Vicinity', 'Patches of Fog',\n",
      "       'Light Drizzle / Windy', 'Light Snow', 'Light Snow / Windy',\n",
      "       'Heavy Snow', 'Mist / Windy', 'Thunder / Wintry Mix',\n",
      "       'Rain / Windy', 'Snow and Thunder', 'Light Snow with Thunder',\n",
      "       'Heavy Snow with Thunder', 'Heavy Rain Shower', 'Heavy T-Storm'],\n",
      "      dtype=object), 2: array(['Mist'], dtype=object), 3: array(['Partly Cloudy'], dtype=object)}\n"
     ]
    }
   ],
   "source": [
    "k = 4\n",
    "kmeans = KMeans(n_clusters=k, init = 'k-means++',random_state=23) #best n_clusters evaluated as 4\n",
    "k_fit = kmeans.fit(df_dummies_scalled)\n",
    "dfXy['Cluster'] = kmeans.predict(df_dummies_scalled)\n",
    "cluster_mapping = {i: dfXy.loc[dfXy['Cluster'] == i, 'Condition'].unique() for i in range(k)}\n",
    "print(cluster_mapping)\n"
   ]
  },
  {
   "cell_type": "code",
   "execution_count": 109,
   "metadata": {},
   "outputs": [
    {
     "data": {
      "text/plain": [
       "array([3, 0, 3, ..., 0, 0, 0])"
      ]
     },
     "execution_count": 109,
     "metadata": {},
     "output_type": "execute_result"
    }
   ],
   "source": [
    "kmeans = KMeans(n_clusters=4, random_state=23) #best n_clusters evaluated as 4\n",
    "k_fit = kmeans.fit(df_with_dummies)\n",
    "clusters = k_fit.labels_\n",
    "clusters"
   ]
  },
  {
   "cell_type": "code",
   "execution_count": 110,
   "metadata": {},
   "outputs": [
    {
     "data": {
      "text/plain": [
       "2    13149\n",
       "3    12611\n",
       "0    12486\n",
       "1     9925\n",
       "Name: Clusters, dtype: int64"
      ]
     },
     "execution_count": 110,
     "metadata": {},
     "output_type": "execute_result"
    }
   ],
   "source": [
    "df_clusters = pd.DataFrame({'Clusters': clusters})\n",
    "df_unsupervised = pd.concat([dfXy, df_clusters], axis=1)\n",
    "df_unsupervised.iloc[:,-1].value_counts()"
   ]
  },
  {
   "attachments": {},
   "cell_type": "markdown",
   "metadata": {},
   "source": [
    "### K-Means Model&Visualization"
   ]
  },
  {
   "cell_type": "code",
   "execution_count": 55,
   "metadata": {},
   "outputs": [],
   "source": [
    "kmeans = KMeans(n_clusters=2)\n",
    "k_fit = kmeans.fit(df_X)"
   ]
  },
  {
   "cell_type": "code",
   "execution_count": 56,
   "metadata": {},
   "outputs": [
    {
     "data": {
      "text/plain": [
       "array([[19.6962762 , 10.92483354, 57.45020962, 11.18377312,  0.3988656 ,\n",
       "        30.08177559,  0.        ],\n",
       "       [13.50845999, 10.32692859, 81.53595498,  9.1222756 ,  0.51831804,\n",
       "        30.20977918,  0.        ]])"
      ]
     },
     "execution_count": 56,
     "metadata": {},
     "output_type": "execute_result"
    }
   ],
   "source": [
    "k_fit.cluster_centers_"
   ]
  },
  {
   "cell_type": "code",
   "execution_count": 57,
   "metadata": {},
   "outputs": [
    {
     "data": {
      "text/plain": [
       "array([1, 1, 1, ..., 1, 1, 1])"
      ]
     },
     "execution_count": 57,
     "metadata": {},
     "output_type": "execute_result"
    }
   ],
   "source": [
    "k_fit.labels_"
   ]
  },
  {
   "cell_type": "code",
   "execution_count": 58,
   "metadata": {},
   "outputs": [
    {
     "data": {
      "text/plain": [
       "<matplotlib.collections.PathCollection at 0x17236a5c5b0>"
      ]
     },
     "execution_count": 58,
     "metadata": {},
     "output_type": "execute_result"
    },
    {
     "data": {
      "image/png": "[encoded data removed]",
      "text/plain": [
       "<Figure size 800x550 with 1 Axes>"
      ]
     },
     "metadata": {},
     "output_type": "display_data"
    }
   ],
   "source": [
    "labels = k_fit.labels_\n",
    "plt.scatter(df.iloc[:,0], df.iloc[:,1],c = labels, s = 50, cmap = 'viridis')"
   ]
  },
  {
   "attachments": {},
   "cell_type": "markdown",
   "metadata": {},
   "source": [
    "### Clustering Weather due to K-Means (k=4) "
   ]
  },
  {
   "cell_type": "code",
   "execution_count": 102,
   "metadata": {},
   "outputs": [
    {
     "data": {
      "text/html": [
       "<div>\n",
       "<style scoped>\n",
       "    .dataframe tbody tr th:only-of-type {\n",
       "        vertical-align: middle;\n",
       "    }\n",
       "\n",
       "    .dataframe tbody tr th {\n",
       "        vertical-align: top;\n",
       "    }\n",
       "\n",
       "    .dataframe thead th {\n",
       "        text-align: right;\n",
       "    }\n",
       "</style>\n",
       "<table border=\"1\" class=\"dataframe\">\n",
       "  <thead>\n",
       "    <tr style=\"text-align: right;\">\n",
       "      <th></th>\n",
       "      <th>Temperature(°C)</th>\n",
       "      <th>Dew Point(°F)</th>\n",
       "      <th>Humidity(°%)</th>\n",
       "      <th>Wind Speed(°mph)</th>\n",
       "      <th>Wind Gust(°mph)</th>\n",
       "      <th>Pressure(°in)</th>\n",
       "      <th>Precip.</th>\n",
       "      <th>Condition</th>\n",
       "      <th>Clusters</th>\n",
       "    </tr>\n",
       "  </thead>\n",
       "  <tbody>\n",
       "    <tr>\n",
       "      <th>48168</th>\n",
       "      <td>9</td>\n",
       "      <td>4</td>\n",
       "      <td>71</td>\n",
       "      <td>10</td>\n",
       "      <td>0</td>\n",
       "      <td>31</td>\n",
       "      <td>0.0</td>\n",
       "      <td>Fair</td>\n",
       "      <td>3</td>\n",
       "    </tr>\n",
       "    <tr>\n",
       "      <th>48169</th>\n",
       "      <td>9</td>\n",
       "      <td>4</td>\n",
       "      <td>71</td>\n",
       "      <td>12</td>\n",
       "      <td>0</td>\n",
       "      <td>31</td>\n",
       "      <td>0.0</td>\n",
       "      <td>Fair</td>\n",
       "      <td>3</td>\n",
       "    </tr>\n",
       "    <tr>\n",
       "      <th>48170</th>\n",
       "      <td>9</td>\n",
       "      <td>4</td>\n",
       "      <td>71</td>\n",
       "      <td>13</td>\n",
       "      <td>0</td>\n",
       "      <td>31</td>\n",
       "      <td>0.0</td>\n",
       "      <td>Fair</td>\n",
       "      <td>3</td>\n",
       "    </tr>\n",
       "  </tbody>\n",
       "</table>\n",
       "</div>"
      ],
      "text/plain": [
       "       Temperature(°C)  Dew Point(°F)  Humidity(°%)  Wind Speed(°mph)  \\\n",
       "48168                9              4            71                10   \n",
       "48169                9              4            71                12   \n",
       "48170                9              4            71                13   \n",
       "\n",
       "       Wind Gust(°mph)  Pressure(°in)  Precip. Condition  Clusters  \n",
       "48168                0             31      0.0      Fair         3  \n",
       "48169                0             31      0.0      Fair         3  \n",
       "48170                0             31      0.0      Fair         3  "
      ]
     },
     "execution_count": 102,
     "metadata": {},
     "output_type": "execute_result"
    }
   ],
   "source": [
    "df_org = pd.read_csv('weather_data.csv')\n",
    "df_org\n",
    "\n",
    "df_with_clusters = pd.concat([df_org, df_unsupervised.loc[:,'Clusters']], axis=1)\n",
    "df_with_clusters.tail(3)"
   ]
  },
  {
   "cell_type": "code",
   "execution_count": 103,
   "metadata": {},
   "outputs": [],
   "source": [
    "df_with_clusters.to_csv('weather_data_unsupervise.csv', index= False)"
   ]
  },
  {
   "cell_type": "code",
   "execution_count": 104,
   "metadata": {},
   "outputs": [
    {
     "name": "stdout",
     "output_type": "stream",
     "text": [
      "\n",
      "Cluster: 0 value counts:\n",
      " ------------------------------ \n",
      " Fair                         4091\n",
      "Mostly Cloudy                3601\n",
      "Light Rain Shower            1803\n",
      "Partly Cloudy                 597\n",
      "Light Rain                    508\n",
      "Mist                          391\n",
      "Light Snow Shower             297\n",
      "Light Rain Shower / Windy     237\n",
      "Mostly Cloudy / Windy         205\n",
      "Rain Shower                   105\n",
      "Cloudy                        100\n",
      "Light Rain / Windy             95\n",
      "Fog                            82\n",
      "Wintry Mix                     81\n",
      "Rain Shower / Windy            60\n",
      "Snow Shower                    52\n",
      "Light Rain with Thunder        47\n",
      "Light Snow Shower / Windy      39\n",
      "T-Storm                        32\n",
      "Light Drizzle                  29\n",
      "Rain                           28\n",
      "Patches of Fog                 25\n",
      "Heavy Snow Shower              18\n",
      "T-Storm / Windy                12\n",
      "Snow Shower / Windy            11\n",
      "Wintry Mix / Windy             11\n",
      "Drizzle                         7\n",
      "Heavy Snow with Thunder         6\n",
      "Light Snow                      6\n",
      "Light Drizzle / Windy           5\n",
      "Light Snow with Thunder         5\n",
      "Fair / Windy                    3\n",
      "Heavy Snow Shower / Windy       3\n",
      "Heavy Snow                      3\n",
      "Thunder / Wintry Mix            3\n",
      "Cloudy / Windy                  2\n",
      "Mist / Windy                    2\n",
      "Thunder in the Vicinity         2\n",
      "Thunder                         1\n",
      "Heavy Rain Shower               1\n",
      "Rain / Windy                    1\n",
      "Snow and Thunder                1\n",
      "Light Snow / Windy              1\n",
      "Partly Cloudy / Windy           1\n",
      "Heavy T-Storm                   1\n",
      "Name: Condition, dtype: int64\n",
      "\n",
      "Cluster: 1 value counts:\n",
      " ------------------------------ \n",
      " Fair                         6929\n",
      "Partly Cloudy                1418\n",
      "Mostly Cloudy                 775\n",
      "Fair / Windy                  379\n",
      "Partly Cloudy / Windy         224\n",
      "Mostly Cloudy / Windy         159\n",
      "Light Rain Shower              26\n",
      "Thunder in the Vicinity         4\n",
      "Light Rain with Thunder         4\n",
      "Thunder                         3\n",
      "Light Rain Shower / Windy       3\n",
      "T-Storm                         1\n",
      "Name: Condition, dtype: int64\n",
      "\n",
      "Cluster: 2 value counts:\n",
      " ------------------------------ \n",
      " Fair                         8235\n",
      "Mostly Cloudy                2406\n",
      "Partly Cloudy                1852\n",
      "Light Rain Shower             290\n",
      "Mostly Cloudy / Windy          85\n",
      "Light Rain with Thunder        52\n",
      "Partly Cloudy / Windy          48\n",
      "Thunder in the Vicinity        31\n",
      "Cloudy                         28\n",
      "Thunder                        25\n",
      "Mist                           21\n",
      "Fair / Windy                   20\n",
      "Light Rain Shower / Windy      18\n",
      "T-Storm                        12\n",
      "Rain Shower                     8\n",
      "Light Rain                      6\n",
      "Patches of Fog                  3\n",
      "Light Drizzle                   3\n",
      "Fog                             1\n",
      "Rain                            1\n",
      "Light Drizzle / Windy           1\n",
      "Drizzle                         1\n",
      "T-Storm / Windy                 1\n",
      "Light Rain / Windy              1\n",
      "Name: Condition, dtype: int64\n",
      "\n",
      "Cluster: 3 value counts:\n",
      " ------------------------------ \n",
      " Fair                         5856\n",
      "Mostly Cloudy                4360\n",
      "Partly Cloudy                1205\n",
      "Mostly Cloudy / Windy         366\n",
      "Light Rain Shower             245\n",
      "Fair / Windy                  103\n",
      "Partly Cloudy / Windy          90\n",
      "Light Snow Shower              74\n",
      "Light Rain                     42\n",
      "Light Rain Shower / Windy      36\n",
      "Cloudy                         34\n",
      "Light Snow Shower / Windy      16\n",
      "Light Rain with Thunder         9\n",
      "Light Rain / Windy              9\n",
      "Wintry Mix                      6\n",
      "Light Snow / Windy              6\n",
      "Light Snow                      6\n",
      "Light Drizzle                   5\n",
      "Mist                            5\n",
      "Light Snow with Thunder         3\n",
      "T-Storm / Windy                 2\n",
      "Rain Shower / Windy             2\n",
      "Snow Shower / Windy             2\n",
      "T-Storm                         2\n",
      "Thunder                         1\n",
      "Snow Shower                     1\n",
      "Name: Condition, dtype: int64\n"
     ]
    }
   ],
   "source": [
    "for cluster in range(4):\n",
    "    df_cluster_group = df_with_clusters.groupby('Clusters').get_group(cluster)\n",
    "    print(f'\\nCluster: {cluster} value counts:\\n','-'*30,'\\n', df_cluster_group['Condition'].value_counts())"
   ]
  },
  {
   "attachments": {},
   "cell_type": "markdown",
   "metadata": {},
   "source": [
    "As it's observed, K-Means does not work well on this dataset. Or there could be another reason. But in my opinion, we should try hierarchical clustering which different algorithm for clustering."
   ]
  },
  {
   "attachments": {},
   "cell_type": "markdown",
   "metadata": {},
   "source": [
    "## Hierarchical Clustering"
   ]
  }
 ],
 "metadata": {
  "kernelspec": {
   "display_name": "Python 3",
   "language": "python",
   "name": "python3"
  },
  "language_info": {
   "codemirror_mode": {
    "name": "ipython",
    "version": 3
   },
   "file_extension": ".py",
   "mimetype": "text/x-python",
   "name": "python",
   "nbconvert_exporter": "python",
   "pygments_lexer": "ipython3",
   "version": "3.10.5"
  },
  "orig_nbformat": 4
 },
 "nbformat": 4,
 "nbformat_minor": 2
}
